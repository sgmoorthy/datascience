{
 "cells": [
  {
   "cell_type": "markdown",
   "metadata": {},
   "source": [
    "# My Vacation  2018 - Analysis"
   ]
  },
  {
   "cell_type": "code",
   "execution_count": 1,
   "metadata": {
    "collapsed": true
   },
   "outputs": [],
   "source": [
    "%matplotlib inline\n",
    "import pandas as pd\n",
    "import matplotlib.pyplot as plt\n",
    "import numpy as np"
   ]
  },
  {
   "cell_type": "markdown",
   "metadata": {},
   "source": [
    "#### This data grid describe the start and end date for each option, this would help to understand the number of elements involved in this plan"
   ]
  },
  {
   "cell_type": "code",
   "execution_count": 2,
   "metadata": {},
   "outputs": [
    {
     "data": {
      "text/html": [
       "<div>\n",
       "<style>\n",
       "    .dataframe thead tr:only-child th {\n",
       "        text-align: right;\n",
       "    }\n",
       "\n",
       "    .dataframe thead th {\n",
       "        text-align: left;\n",
       "    }\n",
       "\n",
       "    .dataframe tbody tr th {\n",
       "        vertical-align: top;\n",
       "    }\n",
       "</style>\n",
       "<table border=\"1\" class=\"dataframe\">\n",
       "  <thead>\n",
       "    <tr style=\"text-align: right;\">\n",
       "      <th></th>\n",
       "      <th>StartDate</th>\n",
       "      <th>EndDate</th>\n",
       "      <th>HasRemote</th>\n",
       "      <th>NumOfFly</th>\n",
       "      <th>TotalLeave</th>\n",
       "      <th>Option</th>\n",
       "      <th>NoOfRemoteDays</th>\n",
       "    </tr>\n",
       "  </thead>\n",
       "  <tbody>\n",
       "    <tr>\n",
       "      <th>0</th>\n",
       "      <td>15-Jan-18</td>\n",
       "      <td>2-Feb-18</td>\n",
       "      <td>Yes</td>\n",
       "      <td>1</td>\n",
       "      <td>26</td>\n",
       "      <td>Option1</td>\n",
       "      <td>5</td>\n",
       "    </tr>\n",
       "    <tr>\n",
       "      <th>1</th>\n",
       "      <td>11-Jan-18</td>\n",
       "      <td>23-Jan-18</td>\n",
       "      <td>No</td>\n",
       "      <td>3</td>\n",
       "      <td>9</td>\n",
       "      <td>Option2</td>\n",
       "      <td>0</td>\n",
       "    </tr>\n",
       "    <tr>\n",
       "      <th>2</th>\n",
       "      <td>22-Feb-18</td>\n",
       "      <td>09-Mar-18</td>\n",
       "      <td>No</td>\n",
       "      <td>3</td>\n",
       "      <td>12</td>\n",
       "      <td>Option2</td>\n",
       "      <td>0</td>\n",
       "    </tr>\n",
       "    <tr>\n",
       "      <th>3</th>\n",
       "      <td>20-Apr-1</td>\n",
       "      <td>11-May-18</td>\n",
       "      <td>No</td>\n",
       "      <td>3</td>\n",
       "      <td>16</td>\n",
       "      <td>Option2</td>\n",
       "      <td>0</td>\n",
       "    </tr>\n",
       "  </tbody>\n",
       "</table>\n",
       "</div>"
      ],
      "text/plain": [
       "   StartDate    EndDate HasRemote  NumOfFly  TotalLeave   Option  \\\n",
       "0  15-Jan-18   2-Feb-18       Yes         1          26  Option1   \n",
       "1  11-Jan-18  23-Jan-18        No         3           9  Option2   \n",
       "2  22-Feb-18  09-Mar-18        No         3          12  Option2   \n",
       "3   20-Apr-1  11-May-18        No         3          16  Option2   \n",
       "\n",
       "   NoOfRemoteDays  \n",
       "0               5  \n",
       "1               0  \n",
       "2               0  \n",
       "3               0  "
      ]
     },
     "execution_count": 2,
     "metadata": {},
     "output_type": "execute_result"
    }
   ],
   "source": [
    "raw_data = {'StartDate': ['15-Jan-18', '11-Jan-18', '22-Feb-18', '20-Apr-1'],\n",
    "        'EndDate': ['2-Feb-18', '23-Jan-18','09-Mar-18','11-May-18'],\n",
    "        'HasRemote': ['Yes', 'No', 'No', 'No'],\n",
    "        'NumOfFly': [1,3,3,3],\n",
    "        'TotalLeave':[26,9,12,16],\n",
    "        'Option':['Option1','Option2','Option2','Option2'],\n",
    "        'NoOfRemoteDays':[5,0,0,0]\n",
    "}\n",
    "df = pd.DataFrame(raw_data, columns = ['StartDate','EndDate','HasRemote','NumOfFly','TotalLeave','Option','NoOfRemoteDays'])\n",
    "df\n"
   ]
  },
  {
   "cell_type": "markdown",
   "metadata": {},
   "source": [
    "Setting a plat using 'Group Bar Plot' In MatPlotLib to represent the options"
   ]
  },
  {
   "cell_type": "code",
   "execution_count": 3,
   "metadata": {},
   "outputs": [
    {
     "data": {
      "image/png": "[encoded data removed]",
      "text/plain": [
       "<matplotlib.figure.Figure at 0x7f18cdbadf60>"
      ]
     },
     "metadata": {},
     "output_type": "display_data"
    }
   ],
   "source": [
    "# Setting the positions and width for the bars\n",
    "pos = list(range(len(df['TotalLeave']))) \n",
    "width = 0.25 \n",
    "\n",
    "# Plotting the bars\n",
    "fig, ax = plt.subplots(figsize=(10,5))\n",
    "\n",
    "# Create a bar with pre_score data,\n",
    "# in position pos,\n",
    "plt.bar(pos, \n",
    "        #using df['TotalLeave'] data,\n",
    "        df['TotalLeave'], \n",
    "        # of width\n",
    "        width, \n",
    "        # with alpha 0.5\n",
    "        alpha=0.5, \n",
    "        # with color\n",
    "        color='#EE3224', \n",
    "        # with label the first value in Option\n",
    "        label=df['Option'][0]) \n",
    "\n",
    "# Create a bar with mid_score data,\n",
    "# in position pos + some width buffer,\n",
    "plt.bar([p + width for p in pos], \n",
    "        #using df['NoOfRemoteDays'] data,\n",
    "        df['NoOfRemoteDays'],\n",
    "        # of width\n",
    "        width, \n",
    "        # with alpha 0.5\n",
    "        alpha=0.5, \n",
    "        # with color\n",
    "        color='#F78F1E', \n",
    "        # with label the second value in Option\n",
    "        label=df['Option'][1]) \n",
    "\n",
    "# Create a bar with post_score data,\n",
    "# in position pos + some width buffer,\n",
    "plt.bar([p + width*2 for p in pos], \n",
    "        #using df['NumOfFly'] data,\n",
    "        df['NumOfFly'], \n",
    "        # of width\n",
    "        width, \n",
    "        # with alpha 0.5\n",
    "        alpha=0.5, \n",
    "        # with color\n",
    "        color='#FFC222', \n",
    "        # with label the third value in first_name\n",
    "        label=df['Option'][2]) \n",
    "\n",
    "# Set the y axis label\n",
    "ax.set_ylabel('Days')\n",
    "\n",
    "# Set the chart's title\n",
    "ax.set_title('My Vacation Plan')\n",
    "\n",
    "# Set the position of the x ticks\n",
    "ax.set_xticks([p + 1.5 * width for p in pos])\n",
    "\n",
    "# Set the labels for the x ticks\n",
    "ax.set_xticklabels(df['Option'])\n",
    "\n",
    "# Setting the x-axis and y-axis limits\n",
    "plt.xlim(min(pos)-width, max(pos)+width*4)\n",
    "plt.ylim([0, max(df['TotalLeave'] + df['NoOfRemoteDays'] + df['NumOfFly'])] )\n",
    "\n",
    "# Adding the legend and showing the plot\n",
    "plt.legend(['TotalLeave', 'NoOfRemoteDays','NumOfFly'], loc='upper left')\n",
    "plt.grid()\n",
    "plt.show()"
   ]
  },
  {
   "cell_type": "markdown",
   "metadata": {},
   "source": [
    "Conclusion"
   ]
  },
  {
   "cell_type": "markdown",
   "metadata": {},
   "source": [
    "Option 1 has less travel with the minimum 5 days of remote working which suite highly , If not then the Option 2 with multiple fly to serve short (2-3 Weeks ) of onsite "
   ]
  }
 ],
 "metadata": {
  "kernelspec": {
   "display_name": "Python [conda env:Python3]",
   "language": "python",
   "name": "conda-env-Python3-py"
  },
  "language_info": {
   "codemirror_mode": {
    "name": "ipython",
    "version": 3
   },
   "file_extension": ".py",
   "mimetype": "text/x-python",
   "name": "python",
   "nbconvert_exporter": "python",
   "pygments_lexer": "ipython3",
   "version": "3.6.1"
  }
 },
 "nbformat": 4,
 "nbformat_minor": 2
}
