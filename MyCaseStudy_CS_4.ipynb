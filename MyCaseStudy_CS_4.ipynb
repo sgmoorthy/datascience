{
 "cells": [
  {
   "cell_type": "markdown",
   "metadata": {},
   "source": [
    "**Introduction**\n",
    "\n",
    "In this notebook, we are going to use multiple recommender model for evaluation. For this we use the dataset(s) provided by MovieLens.  \n",
    "\n",
    "MovieLens has several datasets( 100K dataset )\n",
    "\n",
    "This dataset set consists of: \n",
    " \n",
    "• 100,000 ratings (1-5) from 943 users on 1682 movies.  \n",
    "• Each user has rated at least 20 movies.  \n",
    "• Simple demographic info for the users (age, gender, occupation, zip) \n",
    "\n",
    "Download the \"u.data\" file. To view this file you can use Microsoft Excel, \n",
    "\n",
    "for example. It has the following tab-separated format:  user id | item id | rating | timestamp. \n",
    "    The timestamps are in Unix seconds since 1/1/1970 UTC, EPOCH format."
   ]
  },
  {
   "cell_type": "markdown",
   "metadata": {},
   "source": [
    "**Data Preparation**"
   ]
  },
  {
   "cell_type": "code",
   "execution_count": 1,
   "metadata": {
    "collapsed": true
   },
   "outputs": [],
   "source": [
    "import matplotlib as mpl\n",
    "mpl.use('TkAgg')\n",
    "from matplotlib import pyplot as plt\n",
    "import pandas as pd\n",
    "import numpy as np"
   ]
  },
  {
   "cell_type": "markdown",
   "metadata": {},
   "source": [
    "**Working with Data sets**"
   ]
  },
  {
   "cell_type": "code",
   "execution_count": 2,
   "metadata": {
    "collapsed": false
   },
   "outputs": [
    {
     "name": "stdout",
     "output_type": "stream",
     "text": [
      "<class 'pandas.core.frame.DataFrame'>\n",
      "RangeIndex: 100000 entries, 0 to 99999\n",
      "Data columns (total 3 columns):\n",
      "user_id    100000 non-null int64\n",
      "item_id    100000 non-null int64\n",
      "rating     100000 non-null int64\n",
      "dtypes: int64(3)\n",
      "memory usage: 2.3 MB\n"
     ]
    }
   ],
   "source": [
    "col_names = [\"user_id\", \"item_id\", \"rating\", \"timestamp\"]\n",
    "data = pd.read_table(\"u.data\", names=col_names)\n",
    "data = data.drop(\"timestamp\", 1)\n",
    "data.info()"
   ]
  },
  {
   "cell_type": "markdown",
   "metadata": {},
   "source": [
    "#**Plot data into histogram**"
   ]
  },
  {
   "cell_type": "code",
   "execution_count": 3,
   "metadata": {
    "collapsed": true
   },
   "outputs": [],
   "source": [
    "plt.hist(data[\"rating\"])\n",
    "plt.ylabel('Number of Items')\n",
    "plt.xlabel('Ratings')\n",
    "plt.title('What does data look like?')\n",
    "plt.show()\n"
   ]
  },
  {
   "cell_type": "markdown",
   "metadata": {},
   "source": [
    "<img src=\"Graph1.PNG\" width =500 height =500>"
   ]
  },
  {
   "cell_type": "markdown",
   "metadata": {},
   "source": [
    "**The dataset sparsity can be calculated as**"
   ]
  },
  {
   "cell_type": "code",
   "execution_count": 4,
   "metadata": {
    "collapsed": false
   },
   "outputs": [
    {
     "name": "stdout",
     "output_type": "stream",
     "text": [
      "Sparsity of Dataset is 6.30466936422 Percent\n"
     ]
    }
   ],
   "source": [
    "Number_Ratings = float(len(data))\n",
    "Number_Movies = float(len(np.unique(data[\"item_id\"])))\n",
    "Number_Users = float(len(np.unique(data[\"user_id\"])))\n",
    "Sparsity = (Number_Ratings/(Number_Movies*Number_Users))*100.0\n",
    "print \"Sparsity of Dataset is\", Sparsity, \"Percent\""
   ]
  },
  {
   "cell_type": "markdown",
   "metadata": {},
   "source": [
    "**Sub-setting the data: **\n",
    "\n",
    "the criteria we are currently using is to not include a user if they have fewer than 50 ratings. This value can be changed in the RATINGS_CUTOFF variable."
   ]
  },
  {
   "cell_type": "code",
   "execution_count": 5,
   "metadata": {
    "collapsed": false
   },
   "outputs": [],
   "source": [
    "users = data[\"user_id\"]\n",
    "ratings_count = {}\n",
    "for user in users:\n",
    "    if user in ratings_count:\n",
    "        ratings_count[user] += 1\n",
    "    else:\n",
    "        ratings_count[user] = 1\n",
    "RATINGS_CUTOFF = 50\n",
    "remove_users = []\n",
    "for user,num_ratings in ratings_count.iteritems():\n",
    "    if num_ratings < RATINGS_CUTOFF:\n",
    "        remove_users.append(user)\n",
    "data = data.loc[~data['user_id'].isin(remove_users)]"
   ]
  },
  {
   "cell_type": "markdown",
   "metadata": {},
   "source": [
    "**Recalculate sparsity**"
   ]
  },
  {
   "cell_type": "code",
   "execution_count": 6,
   "metadata": {
    "collapsed": false
   },
   "outputs": [
    {
     "name": "stdout",
     "output_type": "stream",
     "text": [
      "Sparsity of Dataset is 9.26584192843 Percent\n"
     ]
    }
   ],
   "source": [
    "Number_Ratings = float(len(data))\n",
    "Number_Movies = float(len(np.unique(data[\"item_id\"])))\n",
    "Number_Users = float(len(np.unique(data[\"user_id\"])))\n",
    "Sparsity = (Number_Ratings/(Number_Movies*Number_Users))*100.0\n",
    "print\"Sparsity of Dataset is\", Sparsity, \"Percent\""
   ]
  },
  {
   "cell_type": "markdown",
   "metadata": {},
   "source": [
    "**Preparing for Graphlab**\n",
    "\n",
    "Note : before using Graphlab you need to register with Graphlab and get the key to install it. link https://turi.com/download/academic.html\n",
    "\n",
    "I have used Anaconda+turi (GraphLab Create Launcher) which worked perfectly well \n",
    "\n",
    "**what is GraphLab Create Launcher**\n",
    "The GraphLab Create Launcher is a desktop application that makes it easy to get an Anaconda Python environment and GraphLab Create on your machine. After the installation is complete, it provides an icon to start a terminal or IPython Notebook (jupyter) session where you can use GraphLab Create. "
   ]
  },
  {
   "cell_type": "code",
   "execution_count": 7,
   "metadata": {
    "collapsed": false
   },
   "outputs": [
    {
     "name": "stdout",
     "output_type": "stream",
     "text": [
      "This non-commercial license of GraphLab Create for academic use is assigned to sgmoorthy@gmail.com and will expire on November 13, 2018.\n"
     ]
    },
    {
     "name": "stderr",
     "output_type": "stream",
     "text": [
      "[INFO] graphlab.cython.cy_server: GraphLab Create v2.1 started. Logging: C:\\Users\\Guruc\\AppData\\Local\\Temp\\graphlab_server_1510942204.log.0\n"
     ]
    }
   ],
   "source": [
    "import graphlab as gl\n",
    "sf = gl.SFrame(data)"
   ]
  },
  {
   "cell_type": "markdown",
   "metadata": {
    "collapsed": false
   },
   "source": [
    "if in case the Graphlab installation poped error. use below code to check the dependency to get them installed\n",
    "\n",
    "\n",
    "graphlab.get_dependencies()"
   ]
  },
  {
   "cell_type": "markdown",
   "metadata": {},
   "source": [
    "**Splitting Data Randomly (Train/Test)**\n",
    "\n",
    "SFrame.random_split(fraction, seed=None) : \n",
    "\n",
    "Randomly split the rows of an SFrame into two SFrames. The first SFrame contains M rows, sampled uniformly (without replacement) from the original SFrame. M is approximately the fraction times the original number of rows. The second SFrame contains the remaining rows of the original SFrame."
   ]
  },
  {
   "cell_type": "code",
   "execution_count": 8,
   "metadata": {
    "collapsed": false
   },
   "outputs": [
    {
     "name": "stdout",
     "output_type": "stream",
     "text": [
      "Train : 66476 Test  21995 Total 88471\n"
     ]
    }
   ],
   "source": [
    "sf_train, sf_test = sf.random_split(.75, seed=5)\n",
    "print \"Train :\",len(sf_train), \"Test \",len(sf_test) ,\"Total\" ,(len(sf_train)+len(sf_test)) \n"
   ]
  },
  {
   "cell_type": "code",
   "execution_count": 9,
   "metadata": {
    "collapsed": true
   },
   "outputs": [],
   "source": [
    "sf_train, sf_validate = sf_train.random_split(.75)"
   ]
  },
  {
   "cell_type": "markdown",
   "metadata": {},
   "source": [
    "**Popularity Recommender**"
   ]
  },
  {
   "cell_type": "code",
   "execution_count": 10,
   "metadata": {
    "collapsed": false
   },
   "outputs": [
    {
     "data": {
      "text/html": [
       "<pre>Recsys training: model = popularity</pre>"
      ],
      "text/plain": [
       "Recsys training: model = popularity"
      ]
     },
     "metadata": {},
     "output_type": "display_data"
    },
    {
     "data": {
      "text/html": [
       "<pre>Preparing data set.</pre>"
      ],
      "text/plain": [
       "Preparing data set."
      ]
     },
     "metadata": {},
     "output_type": "display_data"
    },
    {
     "data": {
      "text/html": [
       "<pre>    Data has 49965 observations with 568 users and 1590 items.</pre>"
      ],
      "text/plain": [
       "    Data has 49965 observations with 568 users and 1590 items."
      ]
     },
     "metadata": {},
     "output_type": "display_data"
    },
    {
     "data": {
      "text/html": [
       "<pre>    Data prepared in: 0.103933s</pre>"
      ],
      "text/plain": [
       "    Data prepared in: 0.103933s"
      ]
     },
     "metadata": {},
     "output_type": "display_data"
    },
    {
     "data": {
      "text/html": [
       "<pre>49965 observations to process; with 1590 unique items.</pre>"
      ],
      "text/plain": [
       "49965 observations to process; with 1590 unique items."
      ]
     },
     "metadata": {},
     "output_type": "display_data"
    },
    {
     "data": {
      "text/plain": [
       "{'rmse_by_item': Columns:\n",
       " \titem_id\tint\n",
       " \tcount\tint\n",
       " \trmse\tfloat\n",
       " \n",
       " Rows: 1447\n",
       " \n",
       " Data:\n",
       " +---------+-------+----------------+\n",
       " | item_id | count |      rmse      |\n",
       " +---------+-------+----------------+\n",
       " |   118   |   55  | 1.08391323518  |\n",
       " |   1029  |   3   | 1.51877143332  |\n",
       " |   435   |   39  | 0.798324248985 |\n",
       " |   1517  |   1   |      2.0       |\n",
       " |   537   |   8   | 1.40215882935  |\n",
       " |   526   |   35  | 0.934595841931 |\n",
       " |   232   |   21  | 0.627809382545 |\n",
       " |   310   |   28  | 0.756420634585 |\n",
       " |    49   |   19  | 0.796875237668 |\n",
       " |    13   |   37  | 0.918592725376 |\n",
       " +---------+-------+----------------+\n",
       " [1447 rows x 3 columns]\n",
       " Note: Only the head of the SFrame is printed.\n",
       " You can use print_rows(num_rows=m, num_columns=n) to print more rows and columns.,\n",
       " 'rmse_by_user': Columns:\n",
       " \tuser_id\tint\n",
       " \tcount\tint\n",
       " \trmse\tfloat\n",
       " \n",
       " Rows: 568\n",
       " \n",
       " Data:\n",
       " +---------+-------+----------------+\n",
       " | user_id | count |      rmse      |\n",
       " +---------+-------+----------------+\n",
       " |   118   |   13  | 1.16665476843  |\n",
       " |   435   |   89  | 0.94915108541  |\n",
       " |   537   |  122  |  1.0876199737  |\n",
       " |   526   |   18  | 1.02916113371  |\n",
       " |   232   |   21  | 0.820145647708 |\n",
       " |    49   |   47  | 1.35522697316  |\n",
       " |    13   |  171  | 1.21839316188  |\n",
       " |   363   |   79  | 1.09842563772  |\n",
       " |    60   |   49  | 0.67759209109  |\n",
       " |   738   |   35  | 0.616964027892 |\n",
       " +---------+-------+----------------+\n",
       " [568 rows x 3 columns]\n",
       " Note: Only the head of the SFrame is printed.\n",
       " You can use print_rows(num_rows=m, num_columns=n) to print more rows and columns.,\n",
       " 'rmse_overall': 1.0285619131890746}"
      ]
     },
     "execution_count": 10,
     "metadata": {},
     "output_type": "execute_result"
    }
   ],
   "source": [
    "popularity_recommender = gl.recommender.popularity_recommender.create(sf_train,target='rating')\n",
    "popularity_recommender.evaluate_rmse(sf_test,'rating')"
   ]
  },
  {
   "cell_type": "markdown",
   "metadata": {},
   "source": [
    "**Collaborative Filtering**\n",
    "\n",
    "FactorizationRecommender trains a model capable of predicting a score for each possible combination of users and items. The internal coefficients of the model are learned from known scores of users and items. Recommendations are then based on these scores.\n",
    "\n",
    "supply the values to regularization as {1e-05 ,0.0001, 0.001, 0.01, 0.1}"
   ]
  },
  {
   "cell_type": "code",
   "execution_count": 11,
   "metadata": {
    "collapsed": false
   },
   "outputs": [
    {
     "data": {
      "text/html": [
       "<pre>Recsys training: model = factorization_recommender</pre>"
      ],
      "text/plain": [
       "Recsys training: model = factorization_recommender"
      ]
     },
     "metadata": {},
     "output_type": "display_data"
    },
    {
     "data": {
      "text/html": [
       "<pre>Preparing data set.</pre>"
      ],
      "text/plain": [
       "Preparing data set."
      ]
     },
     "metadata": {},
     "output_type": "display_data"
    },
    {
     "data": {
      "text/html": [
       "<pre>    Data has 49965 observations with 568 users and 1590 items.</pre>"
      ],
      "text/plain": [
       "    Data has 49965 observations with 568 users and 1590 items."
      ]
     },
     "metadata": {},
     "output_type": "display_data"
    },
    {
     "data": {
      "text/html": [
       "<pre>    Data prepared in: 0.125756s</pre>"
      ],
      "text/plain": [
       "    Data prepared in: 0.125756s"
      ]
     },
     "metadata": {},
     "output_type": "display_data"
    },
    {
     "data": {
      "text/html": [
       "<pre>Training factorization_recommender for recommendations.</pre>"
      ],
      "text/plain": [
       "Training factorization_recommender for recommendations."
      ]
     },
     "metadata": {},
     "output_type": "display_data"
    },
    {
     "data": {
      "text/html": [
       "<pre>+--------------------------------+--------------------------------------------------+----------+</pre>"
      ],
      "text/plain": [
       "+--------------------------------+--------------------------------------------------+----------+"
      ]
     },
     "metadata": {},
     "output_type": "display_data"
    },
    {
     "data": {
      "text/html": [
       "<pre>| Parameter                      | Description                                      | Value    |</pre>"
      ],
      "text/plain": [
       "| Parameter                      | Description                                      | Value    |"
      ]
     },
     "metadata": {},
     "output_type": "display_data"
    },
    {
     "data": {
      "text/html": [
       "<pre>+--------------------------------+--------------------------------------------------+----------+</pre>"
      ],
      "text/plain": [
       "+--------------------------------+--------------------------------------------------+----------+"
      ]
     },
     "metadata": {},
     "output_type": "display_data"
    },
    {
     "data": {
      "text/html": [
       "<pre>| num_factors                    | Factor Dimension                                 | 8        |</pre>"
      ],
      "text/plain": [
       "| num_factors                    | Factor Dimension                                 | 8        |"
      ]
     },
     "metadata": {},
     "output_type": "display_data"
    },
    {
     "data": {
      "text/html": [
       "<pre>| regularization                 | L2 Regularization on Factors                     | 1e-005   |</pre>"
      ],
      "text/plain": [
       "| regularization                 | L2 Regularization on Factors                     | 1e-005   |"
      ]
     },
     "metadata": {},
     "output_type": "display_data"
    },
    {
     "data": {
      "text/html": [
       "<pre>| solver                         | Solver used for training                         | sgd      |</pre>"
      ],
      "text/plain": [
       "| solver                         | Solver used for training                         | sgd      |"
      ]
     },
     "metadata": {},
     "output_type": "display_data"
    },
    {
     "data": {
      "text/html": [
       "<pre>| linear_regularization          | L2 Regularization on Linear Coefficients         | 1e-010   |</pre>"
      ],
      "text/plain": [
       "| linear_regularization          | L2 Regularization on Linear Coefficients         | 1e-010   |"
      ]
     },
     "metadata": {},
     "output_type": "display_data"
    },
    {
     "data": {
      "text/html": [
       "<pre>| max_iterations                 | Maximum Number of Iterations                     | 50       |</pre>"
      ],
      "text/plain": [
       "| max_iterations                 | Maximum Number of Iterations                     | 50       |"
      ]
     },
     "metadata": {},
     "output_type": "display_data"
    },
    {
     "data": {
      "text/html": [
       "<pre>+--------------------------------+--------------------------------------------------+----------+</pre>"
      ],
      "text/plain": [
       "+--------------------------------+--------------------------------------------------+----------+"
      ]
     },
     "metadata": {},
     "output_type": "display_data"
    },
    {
     "data": {
      "text/html": [
       "<pre>  Optimizing model using SGD; tuning step size.</pre>"
      ],
      "text/plain": [
       "  Optimizing model using SGD; tuning step size."
      ]
     },
     "metadata": {},
     "output_type": "display_data"
    },
    {
     "data": {
      "text/html": [
       "<pre>  Using 10000 / 49965 points for tuning the step size.</pre>"
      ],
      "text/plain": [
       "  Using 10000 / 49965 points for tuning the step size."
      ]
     },
     "metadata": {},
     "output_type": "display_data"
    },
    {
     "data": {
      "text/html": [
       "<pre>+---------+-------------------+------------------------------------------+</pre>"
      ],
      "text/plain": [
       "+---------+-------------------+------------------------------------------+"
      ]
     },
     "metadata": {},
     "output_type": "display_data"
    },
    {
     "data": {
      "text/html": [
       "<pre>| Attempt | Initial Step Size | Estimated Objective Value                |</pre>"
      ],
      "text/plain": [
       "| Attempt | Initial Step Size | Estimated Objective Value                |"
      ]
     },
     "metadata": {},
     "output_type": "display_data"
    },
    {
     "data": {
      "text/html": [
       "<pre>+---------+-------------------+------------------------------------------+</pre>"
      ],
      "text/plain": [
       "+---------+-------------------+------------------------------------------+"
      ]
     },
     "metadata": {},
     "output_type": "display_data"
    },
    {
     "data": {
      "text/html": [
       "<pre>| 0       | 25                | Not Viable                               |</pre>"
      ],
      "text/plain": [
       "| 0       | 25                | Not Viable                               |"
      ]
     },
     "metadata": {},
     "output_type": "display_data"
    },
    {
     "data": {
      "text/html": [
       "<pre>| 1       | 6.25              | Not Viable                               |</pre>"
      ],
      "text/plain": [
       "| 1       | 6.25              | Not Viable                               |"
      ]
     },
     "metadata": {},
     "output_type": "display_data"
    },
    {
     "data": {
      "text/html": [
       "<pre>| 2       | 1.5625            | Not Viable                               |</pre>"
      ],
      "text/plain": [
       "| 2       | 1.5625            | Not Viable                               |"
      ]
     },
     "metadata": {},
     "output_type": "display_data"
    },
    {
     "data": {
      "text/html": [
       "<pre>| 3       | 0.390625          | Not Viable                               |</pre>"
      ],
      "text/plain": [
       "| 3       | 0.390625          | Not Viable                               |"
      ]
     },
     "metadata": {},
     "output_type": "display_data"
    },
    {
     "data": {
      "text/html": [
       "<pre>| 4       | 0.0976562         | 0.723979                                 |</pre>"
      ],
      "text/plain": [
       "| 4       | 0.0976562         | 0.723979                                 |"
      ]
     },
     "metadata": {},
     "output_type": "display_data"
    },
    {
     "data": {
      "text/html": [
       "<pre>| 5       | 0.0488281         | 0.745256                                 |</pre>"
      ],
      "text/plain": [
       "| 5       | 0.0488281         | 0.745256                                 |"
      ]
     },
     "metadata": {},
     "output_type": "display_data"
    },
    {
     "data": {
      "text/html": [
       "<pre>| 6       | 0.0244141         | 0.78946                                  |</pre>"
      ],
      "text/plain": [
       "| 6       | 0.0244141         | 0.78946                                  |"
      ]
     },
     "metadata": {},
     "output_type": "display_data"
    },
    {
     "data": {
      "text/html": [
       "<pre>| 7       | 0.012207          | 0.856242                                 |</pre>"
      ],
      "text/plain": [
       "| 7       | 0.012207          | 0.856242                                 |"
      ]
     },
     "metadata": {},
     "output_type": "display_data"
    },
    {
     "data": {
      "text/html": [
       "<pre>+---------+-------------------+------------------------------------------+</pre>"
      ],
      "text/plain": [
       "+---------+-------------------+------------------------------------------+"
      ]
     },
     "metadata": {},
     "output_type": "display_data"
    },
    {
     "data": {
      "text/html": [
       "<pre>| Final   | 0.0976562         | 0.723979                                 |</pre>"
      ],
      "text/plain": [
       "| Final   | 0.0976562         | 0.723979                                 |"
      ]
     },
     "metadata": {},
     "output_type": "display_data"
    },
    {
     "data": {
      "text/html": [
       "<pre>+---------+-------------------+------------------------------------------+</pre>"
      ],
      "text/plain": [
       "+---------+-------------------+------------------------------------------+"
      ]
     },
     "metadata": {},
     "output_type": "display_data"
    },
    {
     "data": {
      "text/html": [
       "<pre>Starting Optimization.</pre>"
      ],
      "text/plain": [
       "Starting Optimization."
      ]
     },
     "metadata": {},
     "output_type": "display_data"
    },
    {
     "data": {
      "text/html": [
       "<pre>+---------+--------------+-------------------+-----------------------+-------------+</pre>"
      ],
      "text/plain": [
       "+---------+--------------+-------------------+-----------------------+-------------+"
      ]
     },
     "metadata": {},
     "output_type": "display_data"
    },
    {
     "data": {
      "text/html": [
       "<pre>| Iter.   | Elapsed Time | Approx. Objective | Approx. Training RMSE | Step Size   |</pre>"
      ],
      "text/plain": [
       "| Iter.   | Elapsed Time | Approx. Objective | Approx. Training RMSE | Step Size   |"
      ]
     },
     "metadata": {},
     "output_type": "display_data"
    },
    {
     "data": {
      "text/html": [
       "<pre>+---------+--------------+-------------------+-----------------------+-------------+</pre>"
      ],
      "text/plain": [
       "+---------+--------------+-------------------+-----------------------+-------------+"
      ]
     },
     "metadata": {},
     "output_type": "display_data"
    },
    {
     "data": {
      "text/html": [
       "<pre>| Initial | 0us          | 1.25904           | 1.12207               |             |</pre>"
      ],
      "text/plain": [
       "| Initial | 0us          | 1.25904           | 1.12207               |             |"
      ]
     },
     "metadata": {},
     "output_type": "display_data"
    },
    {
     "data": {
      "text/html": [
       "<pre>+---------+--------------+-------------------+-----------------------+-------------+</pre>"
      ],
      "text/plain": [
       "+---------+--------------+-------------------+-----------------------+-------------+"
      ]
     },
     "metadata": {},
     "output_type": "display_data"
    },
    {
     "data": {
      "text/html": [
       "<pre>| 1       | 132.854ms    | 1.06647           | 1.03254               | 0.0976562   |</pre>"
      ],
      "text/plain": [
       "| 1       | 132.854ms    | 1.06647           | 1.03254               | 0.0976562   |"
      ]
     },
     "metadata": {},
     "output_type": "display_data"
    },
    {
     "data": {
      "text/html": [
       "<pre>| 2       | 186.495ms    | 0.92749           | 0.961936              | 0.0580668   |</pre>"
      ],
      "text/plain": [
       "| 2       | 186.495ms    | 0.92749           | 0.961936              | 0.0580668   |"
      ]
     },
     "metadata": {},
     "output_type": "display_data"
    },
    {
     "data": {
      "text/html": [
       "<pre>| 3       | 250.169ms    | 0.861596          | 0.926361              | 0.042841    |</pre>"
      ],
      "text/plain": [
       "| 3       | 250.169ms    | 0.861596          | 0.926361              | 0.042841    |"
      ]
     },
     "metadata": {},
     "output_type": "display_data"
    },
    {
     "data": {
      "text/html": [
       "<pre>| 4       | 355.947ms    | 0.810575          | 0.897177              | 0.0345267   |</pre>"
      ],
      "text/plain": [
       "| 4       | 355.947ms    | 0.810575          | 0.897177              | 0.0345267   |"
      ]
     },
     "metadata": {},
     "output_type": "display_data"
    },
    {
     "data": {
      "text/html": [
       "<pre>| 5       | 491.823ms    | 0.750247          | 0.861274              | 0.029206    |</pre>"
      ],
      "text/plain": [
       "| 5       | 491.823ms    | 0.750247          | 0.861274              | 0.029206    |"
      ]
     },
     "metadata": {},
     "output_type": "display_data"
    },
    {
     "data": {
      "text/html": [
       "<pre>| 6       | 603.104ms    | 0.696861          | 0.828022              | 0.0254734   |</pre>"
      ],
      "text/plain": [
       "| 6       | 603.104ms    | 0.696861          | 0.828022              | 0.0254734   |"
      ]
     },
     "metadata": {},
     "output_type": "display_data"
    },
    {
     "data": {
      "text/html": [
       "<pre>| 11      | 974.595ms    | 0.56118           | 0.735559              | 0.016168    |</pre>"
      ],
      "text/plain": [
       "| 11      | 974.595ms    | 0.56118           | 0.735559              | 0.016168    |"
      ]
     },
     "metadata": {},
     "output_type": "display_data"
    },
    {
     "data": {
      "text/html": [
       "<pre>| 25      | 1.64s        | 0.4902            | 0.679669              | 0.00873464  |</pre>"
      ],
      "text/plain": [
       "| 25      | 1.64s        | 0.4902            | 0.679669              | 0.00873464  |"
      ]
     },
     "metadata": {},
     "output_type": "display_data"
    },
    {
     "data": {
      "text/html": [
       "<pre>| 50      | 2.75s        | 0.463927          | 0.656422              | 0.00519365  |</pre>"
      ],
      "text/plain": [
       "| 50      | 2.75s        | 0.463927          | 0.656422              | 0.00519365  |"
      ]
     },
     "metadata": {},
     "output_type": "display_data"
    },
    {
     "data": {
      "text/html": [
       "<pre>+---------+--------------+-------------------+-----------------------+-------------+</pre>"
      ],
      "text/plain": [
       "+---------+--------------+-------------------+-----------------------+-------------+"
      ]
     },
     "metadata": {},
     "output_type": "display_data"
    },
    {
     "data": {
      "text/html": [
       "<pre>Optimization Complete: Maximum number of passes through the data reached.</pre>"
      ],
      "text/plain": [
       "Optimization Complete: Maximum number of passes through the data reached."
      ]
     },
     "metadata": {},
     "output_type": "display_data"
    },
    {
     "data": {
      "text/html": [
       "<pre>Computing final objective value and training RMSE.</pre>"
      ],
      "text/plain": [
       "Computing final objective value and training RMSE."
      ]
     },
     "metadata": {},
     "output_type": "display_data"
    },
    {
     "data": {
      "text/html": [
       "<pre>       Final objective value: 0.440603</pre>"
      ],
      "text/plain": [
       "       Final objective value: 0.440603"
      ]
     },
     "metadata": {},
     "output_type": "display_data"
    },
    {
     "data": {
      "text/html": [
       "<pre>       Final training RMSE: 0.638409</pre>"
      ],
      "text/plain": [
       "       Final training RMSE: 0.638409"
      ]
     },
     "metadata": {},
     "output_type": "display_data"
    },
    {
     "data": {
      "text/html": [
       "<pre>Recsys training: model = factorization_recommender</pre>"
      ],
      "text/plain": [
       "Recsys training: model = factorization_recommender"
      ]
     },
     "metadata": {},
     "output_type": "display_data"
    },
    {
     "data": {
      "text/html": [
       "<pre>Preparing data set.</pre>"
      ],
      "text/plain": [
       "Preparing data set."
      ]
     },
     "metadata": {},
     "output_type": "display_data"
    },
    {
     "data": {
      "text/html": [
       "<pre>    Data has 49965 observations with 568 users and 1590 items.</pre>"
      ],
      "text/plain": [
       "    Data has 49965 observations with 568 users and 1590 items."
      ]
     },
     "metadata": {},
     "output_type": "display_data"
    },
    {
     "data": {
      "text/html": [
       "<pre>    Data prepared in: 0.069084s</pre>"
      ],
      "text/plain": [
       "    Data prepared in: 0.069084s"
      ]
     },
     "metadata": {},
     "output_type": "display_data"
    },
    {
     "data": {
      "text/html": [
       "<pre>Training factorization_recommender for recommendations.</pre>"
      ],
      "text/plain": [
       "Training factorization_recommender for recommendations."
      ]
     },
     "metadata": {},
     "output_type": "display_data"
    },
    {
     "data": {
      "text/html": [
       "<pre>+--------------------------------+--------------------------------------------------+----------+</pre>"
      ],
      "text/plain": [
       "+--------------------------------+--------------------------------------------------+----------+"
      ]
     },
     "metadata": {},
     "output_type": "display_data"
    },
    {
     "data": {
      "text/html": [
       "<pre>| Parameter                      | Description                                      | Value    |</pre>"
      ],
      "text/plain": [
       "| Parameter                      | Description                                      | Value    |"
      ]
     },
     "metadata": {},
     "output_type": "display_data"
    },
    {
     "data": {
      "text/html": [
       "<pre>+--------------------------------+--------------------------------------------------+----------+</pre>"
      ],
      "text/plain": [
       "+--------------------------------+--------------------------------------------------+----------+"
      ]
     },
     "metadata": {},
     "output_type": "display_data"
    },
    {
     "data": {
      "text/html": [
       "<pre>| num_factors                    | Factor Dimension                                 | 8        |</pre>"
      ],
      "text/plain": [
       "| num_factors                    | Factor Dimension                                 | 8        |"
      ]
     },
     "metadata": {},
     "output_type": "display_data"
    },
    {
     "data": {
      "text/html": [
       "<pre>| regularization                 | L2 Regularization on Factors                     | 0.0001   |</pre>"
      ],
      "text/plain": [
       "| regularization                 | L2 Regularization on Factors                     | 0.0001   |"
      ]
     },
     "metadata": {},
     "output_type": "display_data"
    },
    {
     "data": {
      "text/html": [
       "<pre>| solver                         | Solver used for training                         | sgd      |</pre>"
      ],
      "text/plain": [
       "| solver                         | Solver used for training                         | sgd      |"
      ]
     },
     "metadata": {},
     "output_type": "display_data"
    },
    {
     "data": {
      "text/html": [
       "<pre>| linear_regularization          | L2 Regularization on Linear Coefficients         | 1e-010   |</pre>"
      ],
      "text/plain": [
       "| linear_regularization          | L2 Regularization on Linear Coefficients         | 1e-010   |"
      ]
     },
     "metadata": {},
     "output_type": "display_data"
    },
    {
     "data": {
      "text/html": [
       "<pre>| max_iterations                 | Maximum Number of Iterations                     | 50       |</pre>"
      ],
      "text/plain": [
       "| max_iterations                 | Maximum Number of Iterations                     | 50       |"
      ]
     },
     "metadata": {},
     "output_type": "display_data"
    },
    {
     "data": {
      "text/html": [
       "<pre>+--------------------------------+--------------------------------------------------+----------+</pre>"
      ],
      "text/plain": [
       "+--------------------------------+--------------------------------------------------+----------+"
      ]
     },
     "metadata": {},
     "output_type": "display_data"
    },
    {
     "data": {
      "text/html": [
       "<pre>  Optimizing model using SGD; tuning step size.</pre>"
      ],
      "text/plain": [
       "  Optimizing model using SGD; tuning step size."
      ]
     },
     "metadata": {},
     "output_type": "display_data"
    },
    {
     "data": {
      "text/html": [
       "<pre>  Using 10000 / 49965 points for tuning the step size.</pre>"
      ],
      "text/plain": [
       "  Using 10000 / 49965 points for tuning the step size."
      ]
     },
     "metadata": {},
     "output_type": "display_data"
    },
    {
     "data": {
      "text/html": [
       "<pre>+---------+-------------------+------------------------------------------+</pre>"
      ],
      "text/plain": [
       "+---------+-------------------+------------------------------------------+"
      ]
     },
     "metadata": {},
     "output_type": "display_data"
    },
    {
     "data": {
      "text/html": [
       "<pre>| Attempt | Initial Step Size | Estimated Objective Value                |</pre>"
      ],
      "text/plain": [
       "| Attempt | Initial Step Size | Estimated Objective Value                |"
      ]
     },
     "metadata": {},
     "output_type": "display_data"
    },
    {
     "data": {
      "text/html": [
       "<pre>+---------+-------------------+------------------------------------------+</pre>"
      ],
      "text/plain": [
       "+---------+-------------------+------------------------------------------+"
      ]
     },
     "metadata": {},
     "output_type": "display_data"
    },
    {
     "data": {
      "text/html": [
       "<pre>| 0       | 14.736            | Not Viable                               |</pre>"
      ],
      "text/plain": [
       "| 0       | 14.736            | Not Viable                               |"
      ]
     },
     "metadata": {},
     "output_type": "display_data"
    },
    {
     "data": {
      "text/html": [
       "<pre>| 1       | 3.684             | Not Viable                               |</pre>"
      ],
      "text/plain": [
       "| 1       | 3.684             | Not Viable                               |"
      ]
     },
     "metadata": {},
     "output_type": "display_data"
    },
    {
     "data": {
      "text/html": [
       "<pre>| 2       | 0.921             | Not Viable                               |</pre>"
      ],
      "text/plain": [
       "| 2       | 0.921             | Not Viable                               |"
      ]
     },
     "metadata": {},
     "output_type": "display_data"
    },
    {
     "data": {
      "text/html": [
       "<pre>| 3       | 0.23025           | 0.3875                                   |</pre>"
      ],
      "text/plain": [
       "| 3       | 0.23025           | 0.3875                                   |"
      ]
     },
     "metadata": {},
     "output_type": "display_data"
    },
    {
     "data": {
      "text/html": [
       "<pre>| 4       | 0.115125          | 0.722985                                 |</pre>"
      ],
      "text/plain": [
       "| 4       | 0.115125          | 0.722985                                 |"
      ]
     },
     "metadata": {},
     "output_type": "display_data"
    },
    {
     "data": {
      "text/html": [
       "<pre>| 5       | 0.0575625         | 0.73709                                  |</pre>"
      ],
      "text/plain": [
       "| 5       | 0.0575625         | 0.73709                                  |"
      ]
     },
     "metadata": {},
     "output_type": "display_data"
    },
    {
     "data": {
      "text/html": [
       "<pre>| 6       | 0.0287812         | 0.774653                                 |</pre>"
      ],
      "text/plain": [
       "| 6       | 0.0287812         | 0.774653                                 |"
      ]
     },
     "metadata": {},
     "output_type": "display_data"
    },
    {
     "data": {
      "text/html": [
       "<pre>+---------+-------------------+------------------------------------------+</pre>"
      ],
      "text/plain": [
       "+---------+-------------------+------------------------------------------+"
      ]
     },
     "metadata": {},
     "output_type": "display_data"
    },
    {
     "data": {
      "text/html": [
       "<pre>| Final   | 0.23025           | 0.3875                                   |</pre>"
      ],
      "text/plain": [
       "| Final   | 0.23025           | 0.3875                                   |"
      ]
     },
     "metadata": {},
     "output_type": "display_data"
    },
    {
     "data": {
      "text/html": [
       "<pre>+---------+-------------------+------------------------------------------+</pre>"
      ],
      "text/plain": [
       "+---------+-------------------+------------------------------------------+"
      ]
     },
     "metadata": {},
     "output_type": "display_data"
    },
    {
     "data": {
      "text/html": [
       "<pre>Starting Optimization.</pre>"
      ],
      "text/plain": [
       "Starting Optimization."
      ]
     },
     "metadata": {},
     "output_type": "display_data"
    },
    {
     "data": {
      "text/html": [
       "<pre>+---------+--------------+-------------------+-----------------------+-------------+</pre>"
      ],
      "text/plain": [
       "+---------+--------------+-------------------+-----------------------+-------------+"
      ]
     },
     "metadata": {},
     "output_type": "display_data"
    },
    {
     "data": {
      "text/html": [
       "<pre>| Iter.   | Elapsed Time | Approx. Objective | Approx. Training RMSE | Step Size   |</pre>"
      ],
      "text/plain": [
       "| Iter.   | Elapsed Time | Approx. Objective | Approx. Training RMSE | Step Size   |"
      ]
     },
     "metadata": {},
     "output_type": "display_data"
    },
    {
     "data": {
      "text/html": [
       "<pre>+---------+--------------+-------------------+-----------------------+-------------+</pre>"
      ],
      "text/plain": [
       "+---------+--------------+-------------------+-----------------------+-------------+"
      ]
     },
     "metadata": {},
     "output_type": "display_data"
    },
    {
     "data": {
      "text/html": [
       "<pre>| Initial | 0us          | 1.25903           | 1.12206               |             |</pre>"
      ],
      "text/plain": [
       "| Initial | 0us          | 1.25903           | 1.12206               |             |"
      ]
     },
     "metadata": {},
     "output_type": "display_data"
    },
    {
     "data": {
      "text/html": [
       "<pre>+---------+--------------+-------------------+-----------------------+-------------+</pre>"
      ],
      "text/plain": [
       "+---------+--------------+-------------------+-----------------------+-------------+"
      ]
     },
     "metadata": {},
     "output_type": "display_data"
    },
    {
     "data": {
      "text/html": [
       "<pre>| 1       | 39.605ms     | DIVERGED          | DIVERGED              | 0.23025     |</pre>"
      ],
      "text/plain": [
       "| 1       | 39.605ms     | DIVERGED          | DIVERGED              | 0.23025     |"
      ]
     },
     "metadata": {},
     "output_type": "display_data"
    },
    {
     "data": {
      "text/html": [
       "<pre>| RESET   | 46.624ms     | 1.25905           | 1.12207               |             |</pre>"
      ],
      "text/plain": [
       "| RESET   | 46.624ms     | 1.25905           | 1.12207               |             |"
      ]
     },
     "metadata": {},
     "output_type": "display_data"
    },
    {
     "data": {
      "text/html": [
       "<pre>| 1       | 76.202ms     | 2.22195           | 1.26648               | 0.115125    |</pre>"
      ],
      "text/plain": [
       "| 1       | 76.202ms     | 2.22195           | 1.26648               | 0.115125    |"
      ]
     },
     "metadata": {},
     "output_type": "display_data"
    },
    {
     "data": {
      "text/html": [
       "<pre>| 2       | 110.794ms    | 1.51897           | 1.16403               | 0.0684537   |</pre>"
      ],
      "text/plain": [
       "| 2       | 110.794ms    | 1.51897           | 1.16403               | 0.0684537   |"
      ]
     },
     "metadata": {},
     "output_type": "display_data"
    },
    {
     "data": {
      "text/html": [
       "<pre>| 3       | 145.892ms    | 1.01691           | 0.940215              | 0.0505043   |</pre>"
      ],
      "text/plain": [
       "| 3       | 145.892ms    | 1.01691           | 0.940215              | 0.0505043   |"
      ]
     },
     "metadata": {},
     "output_type": "display_data"
    },
    {
     "data": {
      "text/html": [
       "<pre>| 4       | 187.503ms    | 0.884893          | 0.862256              | 0.0342269   |</pre>"
      ],
      "text/plain": [
       "| 4       | 187.503ms    | 0.884893          | 0.862256              | 0.0342269   |"
      ]
     },
     "metadata": {},
     "output_type": "display_data"
    },
    {
     "data": {
      "text/html": [
       "<pre>| 5       | 217.082ms    | 0.82953           | 0.822249              | 0.0289524   |</pre>"
      ],
      "text/plain": [
       "| 5       | 217.082ms    | 0.82953           | 0.822249              | 0.0289524   |"
      ]
     },
     "metadata": {},
     "output_type": "display_data"
    },
    {
     "data": {
      "text/html": [
       "<pre>| 6       | 242.149ms    | 0.800403          | 0.798505              | 0.0252522   |</pre>"
      ],
      "text/plain": [
       "| 6       | 242.149ms    | 0.800403          | 0.798505              | 0.0252522   |"
      ]
     },
     "metadata": {},
     "output_type": "display_data"
    },
    {
     "data": {
      "text/html": [
       "<pre>| 11      | 392.047ms    | 0.736383          | 0.74406               | 0.0160276   |</pre>"
      ],
      "text/plain": [
       "| 11      | 392.047ms    | 0.736383          | 0.74406               | 0.0160276   |"
      ]
     },
     "metadata": {},
     "output_type": "display_data"
    },
    {
     "data": {
      "text/html": [
       "<pre>| 49      | 1.52s        | 0.674796          | 0.685614              | 0.00399741  |</pre>"
      ],
      "text/plain": [
       "| 49      | 1.52s        | 0.674796          | 0.685614              | 0.00399741  |"
      ]
     },
     "metadata": {},
     "output_type": "display_data"
    },
    {
     "data": {
      "text/html": [
       "<pre>+---------+--------------+-------------------+-----------------------+-------------+</pre>"
      ],
      "text/plain": [
       "+---------+--------------+-------------------+-----------------------+-------------+"
      ]
     },
     "metadata": {},
     "output_type": "display_data"
    },
    {
     "data": {
      "text/html": [
       "<pre>Optimization Complete: Maximum number of passes through the data reached.</pre>"
      ],
      "text/plain": [
       "Optimization Complete: Maximum number of passes through the data reached."
      ]
     },
     "metadata": {},
     "output_type": "display_data"
    },
    {
     "data": {
      "text/html": [
       "<pre>Computing final objective value and training RMSE.</pre>"
      ],
      "text/plain": [
       "Computing final objective value and training RMSE."
      ]
     },
     "metadata": {},
     "output_type": "display_data"
    },
    {
     "data": {
      "text/html": [
       "<pre>       Final objective value: 0.661434</pre>"
      ],
      "text/plain": [
       "       Final objective value: 0.661434"
      ]
     },
     "metadata": {},
     "output_type": "display_data"
    },
    {
     "data": {
      "text/html": [
       "<pre>       Final training RMSE: 0.675699</pre>"
      ],
      "text/plain": [
       "       Final training RMSE: 0.675699"
      ]
     },
     "metadata": {},
     "output_type": "display_data"
    },
    {
     "data": {
      "text/html": [
       "<pre>Recsys training: model = factorization_recommender</pre>"
      ],
      "text/plain": [
       "Recsys training: model = factorization_recommender"
      ]
     },
     "metadata": {},
     "output_type": "display_data"
    },
    {
     "data": {
      "text/html": [
       "<pre>Preparing data set.</pre>"
      ],
      "text/plain": [
       "Preparing data set."
      ]
     },
     "metadata": {},
     "output_type": "display_data"
    },
    {
     "data": {
      "text/html": [
       "<pre>    Data has 49965 observations with 568 users and 1590 items.</pre>"
      ],
      "text/plain": [
       "    Data has 49965 observations with 568 users and 1590 items."
      ]
     },
     "metadata": {},
     "output_type": "display_data"
    },
    {
     "data": {
      "text/html": [
       "<pre>    Data prepared in: 0.068722s</pre>"
      ],
      "text/plain": [
       "    Data prepared in: 0.068722s"
      ]
     },
     "metadata": {},
     "output_type": "display_data"
    },
    {
     "data": {
      "text/html": [
       "<pre>Training factorization_recommender for recommendations.</pre>"
      ],
      "text/plain": [
       "Training factorization_recommender for recommendations."
      ]
     },
     "metadata": {},
     "output_type": "display_data"
    },
    {
     "data": {
      "text/html": [
       "<pre>+--------------------------------+--------------------------------------------------+----------+</pre>"
      ],
      "text/plain": [
       "+--------------------------------+--------------------------------------------------+----------+"
      ]
     },
     "metadata": {},
     "output_type": "display_data"
    },
    {
     "data": {
      "text/html": [
       "<pre>| Parameter                      | Description                                      | Value    |</pre>"
      ],
      "text/plain": [
       "| Parameter                      | Description                                      | Value    |"
      ]
     },
     "metadata": {},
     "output_type": "display_data"
    },
    {
     "data": {
      "text/html": [
       "<pre>+--------------------------------+--------------------------------------------------+----------+</pre>"
      ],
      "text/plain": [
       "+--------------------------------+--------------------------------------------------+----------+"
      ]
     },
     "metadata": {},
     "output_type": "display_data"
    },
    {
     "data": {
      "text/html": [
       "<pre>| num_factors                    | Factor Dimension                                 | 8        |</pre>"
      ],
      "text/plain": [
       "| num_factors                    | Factor Dimension                                 | 8        |"
      ]
     },
     "metadata": {},
     "output_type": "display_data"
    },
    {
     "data": {
      "text/html": [
       "<pre>| regularization                 | L2 Regularization on Factors                     | 0.001    |</pre>"
      ],
      "text/plain": [
       "| regularization                 | L2 Regularization on Factors                     | 0.001    |"
      ]
     },
     "metadata": {},
     "output_type": "display_data"
    },
    {
     "data": {
      "text/html": [
       "<pre>| solver                         | Solver used for training                         | sgd      |</pre>"
      ],
      "text/plain": [
       "| solver                         | Solver used for training                         | sgd      |"
      ]
     },
     "metadata": {},
     "output_type": "display_data"
    },
    {
     "data": {
      "text/html": [
       "<pre>| linear_regularization          | L2 Regularization on Linear Coefficients         | 1e-010   |</pre>"
      ],
      "text/plain": [
       "| linear_regularization          | L2 Regularization on Linear Coefficients         | 1e-010   |"
      ]
     },
     "metadata": {},
     "output_type": "display_data"
    },
    {
     "data": {
      "text/html": [
       "<pre>| max_iterations                 | Maximum Number of Iterations                     | 50       |</pre>"
      ],
      "text/plain": [
       "| max_iterations                 | Maximum Number of Iterations                     | 50       |"
      ]
     },
     "metadata": {},
     "output_type": "display_data"
    },
    {
     "data": {
      "text/html": [
       "<pre>+--------------------------------+--------------------------------------------------+----------+</pre>"
      ],
      "text/plain": [
       "+--------------------------------+--------------------------------------------------+----------+"
      ]
     },
     "metadata": {},
     "output_type": "display_data"
    },
    {
     "data": {
      "text/html": [
       "<pre>  Optimizing model using SGD; tuning step size.</pre>"
      ],
      "text/plain": [
       "  Optimizing model using SGD; tuning step size."
      ]
     },
     "metadata": {},
     "output_type": "display_data"
    },
    {
     "data": {
      "text/html": [
       "<pre>  Using 10000 / 49965 points for tuning the step size.</pre>"
      ],
      "text/plain": [
       "  Using 10000 / 49965 points for tuning the step size."
      ]
     },
     "metadata": {},
     "output_type": "display_data"
    },
    {
     "data": {
      "text/html": [
       "<pre>+---------+-------------------+------------------------------------------+</pre>"
      ],
      "text/plain": [
       "+---------+-------------------+------------------------------------------+"
      ]
     },
     "metadata": {},
     "output_type": "display_data"
    },
    {
     "data": {
      "text/html": [
       "<pre>| Attempt | Initial Step Size | Estimated Objective Value                |</pre>"
      ],
      "text/plain": [
       "| Attempt | Initial Step Size | Estimated Objective Value                |"
      ]
     },
     "metadata": {},
     "output_type": "display_data"
    },
    {
     "data": {
      "text/html": [
       "<pre>+---------+-------------------+------------------------------------------+</pre>"
      ],
      "text/plain": [
       "+---------+-------------------+------------------------------------------+"
      ]
     },
     "metadata": {},
     "output_type": "display_data"
    },
    {
     "data": {
      "text/html": [
       "<pre>| 0       | 1.4736            | Not Viable                               |</pre>"
      ],
      "text/plain": [
       "| 0       | 1.4736            | Not Viable                               |"
      ]
     },
     "metadata": {},
     "output_type": "display_data"
    },
    {
     "data": {
      "text/html": [
       "<pre>| 1       | 0.3684            | Not Viable                               |</pre>"
      ],
      "text/plain": [
       "| 1       | 0.3684            | Not Viable                               |"
      ]
     },
     "metadata": {},
     "output_type": "display_data"
    },
    {
     "data": {
      "text/html": [
       "<pre>| 2       | 0.0921            | 0.74702                                  |</pre>"
      ],
      "text/plain": [
       "| 2       | 0.0921            | 0.74702                                  |"
      ]
     },
     "metadata": {},
     "output_type": "display_data"
    },
    {
     "data": {
      "text/html": [
       "<pre>| 3       | 0.04605           | 0.772654                                 |</pre>"
      ],
      "text/plain": [
       "| 3       | 0.04605           | 0.772654                                 |"
      ]
     },
     "metadata": {},
     "output_type": "display_data"
    },
    {
     "data": {
      "text/html": [
       "<pre>| 4       | 0.023025          | 0.808838                                 |</pre>"
      ],
      "text/plain": [
       "| 4       | 0.023025          | 0.808838                                 |"
      ]
     },
     "metadata": {},
     "output_type": "display_data"
    },
    {
     "data": {
      "text/html": [
       "<pre>| 5       | 0.0115125         | 0.858673                                 |</pre>"
      ],
      "text/plain": [
       "| 5       | 0.0115125         | 0.858673                                 |"
      ]
     },
     "metadata": {},
     "output_type": "display_data"
    },
    {
     "data": {
      "text/html": [
       "<pre>+---------+-------------------+------------------------------------------+</pre>"
      ],
      "text/plain": [
       "+---------+-------------------+------------------------------------------+"
      ]
     },
     "metadata": {},
     "output_type": "display_data"
    },
    {
     "data": {
      "text/html": [
       "<pre>| Final   | 0.0921            | 0.74702                                  |</pre>"
      ],
      "text/plain": [
       "| Final   | 0.0921            | 0.74702                                  |"
      ]
     },
     "metadata": {},
     "output_type": "display_data"
    },
    {
     "data": {
      "text/html": [
       "<pre>+---------+-------------------+------------------------------------------+</pre>"
      ],
      "text/plain": [
       "+---------+-------------------+------------------------------------------+"
      ]
     },
     "metadata": {},
     "output_type": "display_data"
    },
    {
     "data": {
      "text/html": [
       "<pre>Starting Optimization.</pre>"
      ],
      "text/plain": [
       "Starting Optimization."
      ]
     },
     "metadata": {},
     "output_type": "display_data"
    },
    {
     "data": {
      "text/html": [
       "<pre>+---------+--------------+-------------------+-----------------------+-------------+</pre>"
      ],
      "text/plain": [
       "+---------+--------------+-------------------+-----------------------+-------------+"
      ]
     },
     "metadata": {},
     "output_type": "display_data"
    },
    {
     "data": {
      "text/html": [
       "<pre>| Iter.   | Elapsed Time | Approx. Objective | Approx. Training RMSE | Step Size   |</pre>"
      ],
      "text/plain": [
       "| Iter.   | Elapsed Time | Approx. Objective | Approx. Training RMSE | Step Size   |"
      ]
     },
     "metadata": {},
     "output_type": "display_data"
    },
    {
     "data": {
      "text/html": [
       "<pre>+---------+--------------+-------------------+-----------------------+-------------+</pre>"
      ],
      "text/plain": [
       "+---------+--------------+-------------------+-----------------------+-------------+"
      ]
     },
     "metadata": {},
     "output_type": "display_data"
    },
    {
     "data": {
      "text/html": [
       "<pre>| Initial | 501us        | 1.25904           | 1.12207               |             |</pre>"
      ],
      "text/plain": [
       "| Initial | 501us        | 1.25904           | 1.12207               |             |"
      ]
     },
     "metadata": {},
     "output_type": "display_data"
    },
    {
     "data": {
      "text/html": [
       "<pre>+---------+--------------+-------------------+-----------------------+-------------+</pre>"
      ],
      "text/plain": [
       "+---------+--------------+-------------------+-----------------------+-------------+"
      ]
     },
     "metadata": {},
     "output_type": "display_data"
    },
    {
     "data": {
      "text/html": [
       "<pre>| 1       | 73.696ms     | DIVERGED          | DIVERGED              | 0.0921      |</pre>"
      ],
      "text/plain": [
       "| 1       | 73.696ms     | DIVERGED          | DIVERGED              | 0.0921      |"
      ]
     },
     "metadata": {},
     "output_type": "display_data"
    },
    {
     "data": {
      "text/html": [
       "<pre>| RESET   | 80.214ms     | 1.25909           | 1.12209               |             |</pre>"
      ],
      "text/plain": [
       "| RESET   | 80.214ms     | 1.25909           | 1.12209               |             |"
      ]
     },
     "metadata": {},
     "output_type": "display_data"
    },
    {
     "data": {
      "text/html": [
       "<pre>| 1       | 119.317ms    | DIVERGED          | DIVERGED              | 0.04605     |</pre>"
      ],
      "text/plain": [
       "| 1       | 119.317ms    | DIVERGED          | DIVERGED              | 0.04605     |"
      ]
     },
     "metadata": {},
     "output_type": "display_data"
    },
    {
     "data": {
      "text/html": [
       "<pre>| RESET   | 125.837ms    | 1.25901           | 1.12205               |             |</pre>"
      ],
      "text/plain": [
       "| RESET   | 125.837ms    | 1.25901           | 1.12205               |             |"
      ]
     },
     "metadata": {},
     "output_type": "display_data"
    },
    {
     "data": {
      "text/html": [
       "<pre>| 1       | 155.413ms    | 0.964525          | 0.982101              | 0.023025    |</pre>"
      ],
      "text/plain": [
       "| 1       | 155.413ms    | 0.964525          | 0.982101              | 0.023025    |"
      ]
     },
     "metadata": {},
     "output_type": "display_data"
    },
    {
     "data": {
      "text/html": [
       "<pre>| 2       | 185.493ms    | 0.867547          | 0.931421              | 0.0107071   |</pre>"
      ],
      "text/plain": [
       "| 2       | 185.493ms    | 0.867547          | 0.931421              | 0.0107071   |"
      ]
     },
     "metadata": {},
     "output_type": "display_data"
    },
    {
     "data": {
      "text/html": [
       "<pre>| 3       | 228.106ms    | 0.847095          | 0.920377              | 0.0069754   |</pre>"
      ],
      "text/plain": [
       "| 3       | 228.106ms    | 0.847095          | 0.920377              | 0.0069754   |"
      ]
     },
     "metadata": {},
     "output_type": "display_data"
    },
    {
     "data": {
      "text/html": [
       "<pre>| 4       | 258.187ms    | 0.838561          | 0.91573               | 0.00517261  |</pre>"
      ],
      "text/plain": [
       "| 4       | 258.187ms    | 0.838561          | 0.91573               | 0.00517261  |"
      ]
     },
     "metadata": {},
     "output_type": "display_data"
    },
    {
     "data": {
      "text/html": [
       "<pre>| 5       | 288.266ms    | 0.833061          | 0.912722              | 0.0041103   |</pre>"
      ],
      "text/plain": [
       "| 5       | 288.266ms    | 0.833061          | 0.912722              | 0.0041103   |"
      ]
     },
     "metadata": {},
     "output_type": "display_data"
    },
    {
     "data": {
      "text/html": [
       "<pre>| 6       | 324.864ms    | 0.829548          | 0.910795              | 0.00340999  |</pre>"
      ],
      "text/plain": [
       "| 6       | 324.864ms    | 0.829548          | 0.910795              | 0.00340999  |"
      ]
     },
     "metadata": {},
     "output_type": "display_data"
    },
    {
     "data": {
      "text/html": [
       "<pre>| 11      | 478.774ms    | 0.821287          | 0.906249              | 0.00184135  |</pre>"
      ],
      "text/plain": [
       "| 11      | 478.774ms    | 0.821287          | 0.906249              | 0.00184135  |"
      ]
     },
     "metadata": {},
     "output_type": "display_data"
    },
    {
     "data": {
      "text/html": [
       "<pre>| 48      | 2.13s        | 0.812258          | 0.901253              | 0.000418098 |</pre>"
      ],
      "text/plain": [
       "| 48      | 2.13s        | 0.812258          | 0.901253              | 0.000418098 |"
      ]
     },
     "metadata": {},
     "output_type": "display_data"
    },
    {
     "data": {
      "text/html": [
       "<pre>+---------+--------------+-------------------+-----------------------+-------------+</pre>"
      ],
      "text/plain": [
       "+---------+--------------+-------------------+-----------------------+-------------+"
      ]
     },
     "metadata": {},
     "output_type": "display_data"
    },
    {
     "data": {
      "text/html": [
       "<pre>Optimization Complete: Maximum number of passes through the data reached.</pre>"
      ],
      "text/plain": [
       "Optimization Complete: Maximum number of passes through the data reached."
      ]
     },
     "metadata": {},
     "output_type": "display_data"
    },
    {
     "data": {
      "text/html": [
       "<pre>Computing final objective value and training RMSE.</pre>"
      ],
      "text/plain": [
       "Computing final objective value and training RMSE."
      ]
     },
     "metadata": {},
     "output_type": "display_data"
    },
    {
     "data": {
      "text/html": [
       "<pre>       Final objective value: 0.810814</pre>"
      ],
      "text/plain": [
       "       Final objective value: 0.810814"
      ]
     },
     "metadata": {},
     "output_type": "display_data"
    },
    {
     "data": {
      "text/html": [
       "<pre>       Final training RMSE: 0.900452</pre>"
      ],
      "text/plain": [
       "       Final training RMSE: 0.900452"
      ]
     },
     "metadata": {},
     "output_type": "display_data"
    },
    {
     "data": {
      "text/html": [
       "<pre>Recsys training: model = factorization_recommender</pre>"
      ],
      "text/plain": [
       "Recsys training: model = factorization_recommender"
      ]
     },
     "metadata": {},
     "output_type": "display_data"
    },
    {
     "data": {
      "text/html": [
       "<pre>Preparing data set.</pre>"
      ],
      "text/plain": [
       "Preparing data set."
      ]
     },
     "metadata": {},
     "output_type": "display_data"
    },
    {
     "data": {
      "text/html": [
       "<pre>    Data has 49965 observations with 568 users and 1590 items.</pre>"
      ],
      "text/plain": [
       "    Data has 49965 observations with 568 users and 1590 items."
      ]
     },
     "metadata": {},
     "output_type": "display_data"
    },
    {
     "data": {
      "text/html": [
       "<pre>    Data prepared in: 0.063775s</pre>"
      ],
      "text/plain": [
       "    Data prepared in: 0.063775s"
      ]
     },
     "metadata": {},
     "output_type": "display_data"
    },
    {
     "data": {
      "text/html": [
       "<pre>Training factorization_recommender for recommendations.</pre>"
      ],
      "text/plain": [
       "Training factorization_recommender for recommendations."
      ]
     },
     "metadata": {},
     "output_type": "display_data"
    },
    {
     "data": {
      "text/html": [
       "<pre>+--------------------------------+--------------------------------------------------+----------+</pre>"
      ],
      "text/plain": [
       "+--------------------------------+--------------------------------------------------+----------+"
      ]
     },
     "metadata": {},
     "output_type": "display_data"
    },
    {
     "data": {
      "text/html": [
       "<pre>| Parameter                      | Description                                      | Value    |</pre>"
      ],
      "text/plain": [
       "| Parameter                      | Description                                      | Value    |"
      ]
     },
     "metadata": {},
     "output_type": "display_data"
    },
    {
     "data": {
      "text/html": [
       "<pre>+--------------------------------+--------------------------------------------------+----------+</pre>"
      ],
      "text/plain": [
       "+--------------------------------+--------------------------------------------------+----------+"
      ]
     },
     "metadata": {},
     "output_type": "display_data"
    },
    {
     "data": {
      "text/html": [
       "<pre>| num_factors                    | Factor Dimension                                 | 8        |</pre>"
      ],
      "text/plain": [
       "| num_factors                    | Factor Dimension                                 | 8        |"
      ]
     },
     "metadata": {},
     "output_type": "display_data"
    },
    {
     "data": {
      "text/html": [
       "<pre>| regularization                 | L2 Regularization on Factors                     | 0.01     |</pre>"
      ],
      "text/plain": [
       "| regularization                 | L2 Regularization on Factors                     | 0.01     |"
      ]
     },
     "metadata": {},
     "output_type": "display_data"
    },
    {
     "data": {
      "text/html": [
       "<pre>| solver                         | Solver used for training                         | sgd      |</pre>"
      ],
      "text/plain": [
       "| solver                         | Solver used for training                         | sgd      |"
      ]
     },
     "metadata": {},
     "output_type": "display_data"
    },
    {
     "data": {
      "text/html": [
       "<pre>| linear_regularization          | L2 Regularization on Linear Coefficients         | 1e-010   |</pre>"
      ],
      "text/plain": [
       "| linear_regularization          | L2 Regularization on Linear Coefficients         | 1e-010   |"
      ]
     },
     "metadata": {},
     "output_type": "display_data"
    },
    {
     "data": {
      "text/html": [
       "<pre>| max_iterations                 | Maximum Number of Iterations                     | 50       |</pre>"
      ],
      "text/plain": [
       "| max_iterations                 | Maximum Number of Iterations                     | 50       |"
      ]
     },
     "metadata": {},
     "output_type": "display_data"
    },
    {
     "data": {
      "text/html": [
       "<pre>+--------------------------------+--------------------------------------------------+----------+</pre>"
      ],
      "text/plain": [
       "+--------------------------------+--------------------------------------------------+----------+"
      ]
     },
     "metadata": {},
     "output_type": "display_data"
    },
    {
     "data": {
      "text/html": [
       "<pre>  Optimizing model using SGD; tuning step size.</pre>"
      ],
      "text/plain": [
       "  Optimizing model using SGD; tuning step size."
      ]
     },
     "metadata": {},
     "output_type": "display_data"
    },
    {
     "data": {
      "text/html": [
       "<pre>  Using 10000 / 49965 points for tuning the step size.</pre>"
      ],
      "text/plain": [
       "  Using 10000 / 49965 points for tuning the step size."
      ]
     },
     "metadata": {},
     "output_type": "display_data"
    },
    {
     "data": {
      "text/html": [
       "<pre>+---------+-------------------+------------------------------------------+</pre>"
      ],
      "text/plain": [
       "+---------+-------------------+------------------------------------------+"
      ]
     },
     "metadata": {},
     "output_type": "display_data"
    },
    {
     "data": {
      "text/html": [
       "<pre>| Attempt | Initial Step Size | Estimated Objective Value                |</pre>"
      ],
      "text/plain": [
       "| Attempt | Initial Step Size | Estimated Objective Value                |"
      ]
     },
     "metadata": {},
     "output_type": "display_data"
    },
    {
     "data": {
      "text/html": [
       "<pre>+---------+-------------------+------------------------------------------+</pre>"
      ],
      "text/plain": [
       "+---------+-------------------+------------------------------------------+"
      ]
     },
     "metadata": {},
     "output_type": "display_data"
    },
    {
     "data": {
      "text/html": [
       "<pre>| 0       | 0.14736           | Not Viable                               |</pre>"
      ],
      "text/plain": [
       "| 0       | 0.14736           | Not Viable                               |"
      ]
     },
     "metadata": {},
     "output_type": "display_data"
    },
    {
     "data": {
      "text/html": [
       "<pre>| 1       | 0.03684           | Not Viable                               |</pre>"
      ],
      "text/plain": [
       "| 1       | 0.03684           | Not Viable                               |"
      ]
     },
     "metadata": {},
     "output_type": "display_data"
    },
    {
     "data": {
      "text/html": [
       "<pre>| 2       | 0.00921           | 0.977089                                 |</pre>"
      ],
      "text/plain": [
       "| 2       | 0.00921           | 0.977089                                 |"
      ]
     },
     "metadata": {},
     "output_type": "display_data"
    },
    {
     "data": {
      "text/html": [
       "<pre>| 3       | 0.004605          | 1.04882                                  |</pre>"
      ],
      "text/plain": [
       "| 3       | 0.004605          | 1.04882                                  |"
      ]
     },
     "metadata": {},
     "output_type": "display_data"
    },
    {
     "data": {
      "text/html": [
       "<pre>| 4       | 0.0023025         | 1.10945                                  |</pre>"
      ],
      "text/plain": [
       "| 4       | 0.0023025         | 1.10945                                  |"
      ]
     },
     "metadata": {},
     "output_type": "display_data"
    },
    {
     "data": {
      "text/html": [
       "<pre>| 5       | 0.00115125        | 1.16319                                  |</pre>"
      ],
      "text/plain": [
       "| 5       | 0.00115125        | 1.16319                                  |"
      ]
     },
     "metadata": {},
     "output_type": "display_data"
    },
    {
     "data": {
      "text/html": [
       "<pre>+---------+-------------------+------------------------------------------+</pre>"
      ],
      "text/plain": [
       "+---------+-------------------+------------------------------------------+"
      ]
     },
     "metadata": {},
     "output_type": "display_data"
    },
    {
     "data": {
      "text/html": [
       "<pre>| Final   | 0.00921           | 0.977089                                 |</pre>"
      ],
      "text/plain": [
       "| Final   | 0.00921           | 0.977089                                 |"
      ]
     },
     "metadata": {},
     "output_type": "display_data"
    },
    {
     "data": {
      "text/html": [
       "<pre>+---------+-------------------+------------------------------------------+</pre>"
      ],
      "text/plain": [
       "+---------+-------------------+------------------------------------------+"
      ]
     },
     "metadata": {},
     "output_type": "display_data"
    },
    {
     "data": {
      "text/html": [
       "<pre>Starting Optimization.</pre>"
      ],
      "text/plain": [
       "Starting Optimization."
      ]
     },
     "metadata": {},
     "output_type": "display_data"
    },
    {
     "data": {
      "text/html": [
       "<pre>+---------+--------------+-------------------+-----------------------+-------------+</pre>"
      ],
      "text/plain": [
       "+---------+--------------+-------------------+-----------------------+-------------+"
      ]
     },
     "metadata": {},
     "output_type": "display_data"
    },
    {
     "data": {
      "text/html": [
       "<pre>| Iter.   | Elapsed Time | Approx. Objective | Approx. Training RMSE | Step Size   |</pre>"
      ],
      "text/plain": [
       "| Iter.   | Elapsed Time | Approx. Objective | Approx. Training RMSE | Step Size   |"
      ]
     },
     "metadata": {},
     "output_type": "display_data"
    },
    {
     "data": {
      "text/html": [
       "<pre>+---------+--------------+-------------------+-----------------------+-------------+</pre>"
      ],
      "text/plain": [
       "+---------+--------------+-------------------+-----------------------+-------------+"
      ]
     },
     "metadata": {},
     "output_type": "display_data"
    },
    {
     "data": {
      "text/html": [
       "<pre>| Initial | 502us        | 1.25904           | 1.12207               |             |</pre>"
      ],
      "text/plain": [
       "| Initial | 502us        | 1.25904           | 1.12207               |             |"
      ]
     },
     "metadata": {},
     "output_type": "display_data"
    },
    {
     "data": {
      "text/html": [
       "<pre>+---------+--------------+-------------------+-----------------------+-------------+</pre>"
      ],
      "text/plain": [
       "+---------+--------------+-------------------+-----------------------+-------------+"
      ]
     },
     "metadata": {},
     "output_type": "display_data"
    },
    {
     "data": {
      "text/html": [
       "<pre>| 1       | 43.115ms     | DIVERGED          | DIVERGED              | 0.00921     |</pre>"
      ],
      "text/plain": [
       "| 1       | 43.115ms     | DIVERGED          | DIVERGED              | 0.00921     |"
      ]
     },
     "metadata": {},
     "output_type": "display_data"
    },
    {
     "data": {
      "text/html": [
       "<pre>| RESET   | 51.638ms     | 1.25905           | 1.12207               |             |</pre>"
      ],
      "text/plain": [
       "| RESET   | 51.638ms     | 1.25905           | 1.12207               |             |"
      ]
     },
     "metadata": {},
     "output_type": "display_data"
    },
    {
     "data": {
      "text/html": [
       "<pre>| 1       | 99.766ms     | 1.06283           | 1.03094               | 0.004605    |</pre>"
      ],
      "text/plain": [
       "| 1       | 99.766ms     | 1.06283           | 1.03094               | 0.004605    |"
      ]
     },
     "metadata": {},
     "output_type": "display_data"
    },
    {
     "data": {
      "text/html": [
       "<pre>| 2       | 180.985ms    | 0.939214          | 0.96913               | 0.00139508  |</pre>"
      ],
      "text/plain": [
       "| 2       | 180.985ms    | 0.939214          | 0.96913               | 0.00139508  |"
      ]
     },
     "metadata": {},
     "output_type": "display_data"
    },
    {
     "data": {
      "text/html": [
       "<pre>| 3       | 224.097ms    | 0.920125          | 0.959232              | 0.000822061 |</pre>"
      ],
      "text/plain": [
       "| 3       | 224.097ms    | 0.920125          | 0.959232              | 0.000822061 |"
      ]
     },
     "metadata": {},
     "output_type": "display_data"
    },
    {
     "data": {
      "text/html": [
       "<pre>| 4       | 259.691ms    | 0.910761          | 0.954338              | 0.000582715 |</pre>"
      ],
      "text/plain": [
       "| 4       | 259.691ms    | 0.910761          | 0.954338              | 0.000582715 |"
      ]
     },
     "metadata": {},
     "output_type": "display_data"
    },
    {
     "data": {
      "text/html": [
       "<pre>| 5       | 313.334ms    | 0.904832          | 0.951227              | 0.000451313 |</pre>"
      ],
      "text/plain": [
       "| 5       | 313.334ms    | 0.904832          | 0.951227              | 0.000451313 |"
      ]
     },
     "metadata": {},
     "output_type": "display_data"
    },
    {
     "data": {
      "text/html": [
       "<pre>| 6       | 366.976ms    | 0.900601          | 0.949                 | 0.000368269 |</pre>"
      ],
      "text/plain": [
       "| 6       | 366.976ms    | 0.900601          | 0.949                 | 0.000368269 |"
      ]
     },
     "metadata": {},
     "output_type": "display_data"
    },
    {
     "data": {
      "text/html": [
       "<pre>| 11      | 690.336ms    | 0.889279          | 0.943016              | 0.000191804 |</pre>"
      ],
      "text/plain": [
       "| 11      | 690.336ms    | 0.889279          | 0.943016              | 0.000191804 |"
      ]
     },
     "metadata": {},
     "output_type": "display_data"
    },
    {
     "data": {
      "text/html": [
       "<pre>| 24      | 1.11s        | 0.878555          | 0.937313              |             |</pre>"
      ],
      "text/plain": [
       "| 24      | 1.11s        | 0.878555          | 0.937313              |             |"
      ]
     },
     "metadata": {},
     "output_type": "display_data"
    },
    {
     "data": {
      "text/html": [
       "<pre>| 49      | 1.83s        | 0.871001          | 0.933274              |             |</pre>"
      ],
      "text/plain": [
       "| 49      | 1.83s        | 0.871001          | 0.933274              |             |"
      ]
     },
     "metadata": {},
     "output_type": "display_data"
    },
    {
     "data": {
      "text/html": [
       "<pre>+---------+--------------+-------------------+-----------------------+-------------+</pre>"
      ],
      "text/plain": [
       "+---------+--------------+-------------------+-----------------------+-------------+"
      ]
     },
     "metadata": {},
     "output_type": "display_data"
    },
    {
     "data": {
      "text/html": [
       "<pre>Optimization Complete: Maximum number of passes through the data reached.</pre>"
      ],
      "text/plain": [
       "Optimization Complete: Maximum number of passes through the data reached."
      ]
     },
     "metadata": {},
     "output_type": "display_data"
    },
    {
     "data": {
      "text/html": [
       "<pre>Computing final objective value and training RMSE.</pre>"
      ],
      "text/plain": [
       "Computing final objective value and training RMSE."
      ]
     },
     "metadata": {},
     "output_type": "display_data"
    },
    {
     "data": {
      "text/html": [
       "<pre>       Final objective value: 0.870576</pre>"
      ],
      "text/plain": [
       "       Final objective value: 0.870576"
      ]
     },
     "metadata": {},
     "output_type": "display_data"
    },
    {
     "data": {
      "text/html": [
       "<pre>       Final training RMSE: 0.933047</pre>"
      ],
      "text/plain": [
       "       Final training RMSE: 0.933047"
      ]
     },
     "metadata": {},
     "output_type": "display_data"
    },
    {
     "data": {
      "text/html": [
       "<pre>Recsys training: model = factorization_recommender</pre>"
      ],
      "text/plain": [
       "Recsys training: model = factorization_recommender"
      ]
     },
     "metadata": {},
     "output_type": "display_data"
    },
    {
     "data": {
      "text/html": [
       "<pre>Preparing data set.</pre>"
      ],
      "text/plain": [
       "Preparing data set."
      ]
     },
     "metadata": {},
     "output_type": "display_data"
    },
    {
     "data": {
      "text/html": [
       "<pre>    Data has 49965 observations with 568 users and 1590 items.</pre>"
      ],
      "text/plain": [
       "    Data has 49965 observations with 568 users and 1590 items."
      ]
     },
     "metadata": {},
     "output_type": "display_data"
    },
    {
     "data": {
      "text/html": [
       "<pre>    Data prepared in: 0.053379s</pre>"
      ],
      "text/plain": [
       "    Data prepared in: 0.053379s"
      ]
     },
     "metadata": {},
     "output_type": "display_data"
    },
    {
     "data": {
      "text/html": [
       "<pre>Training factorization_recommender for recommendations.</pre>"
      ],
      "text/plain": [
       "Training factorization_recommender for recommendations."
      ]
     },
     "metadata": {},
     "output_type": "display_data"
    },
    {
     "data": {
      "text/html": [
       "<pre>+--------------------------------+--------------------------------------------------+----------+</pre>"
      ],
      "text/plain": [
       "+--------------------------------+--------------------------------------------------+----------+"
      ]
     },
     "metadata": {},
     "output_type": "display_data"
    },
    {
     "data": {
      "text/html": [
       "<pre>| Parameter                      | Description                                      | Value    |</pre>"
      ],
      "text/plain": [
       "| Parameter                      | Description                                      | Value    |"
      ]
     },
     "metadata": {},
     "output_type": "display_data"
    },
    {
     "data": {
      "text/html": [
       "<pre>+--------------------------------+--------------------------------------------------+----------+</pre>"
      ],
      "text/plain": [
       "+--------------------------------+--------------------------------------------------+----------+"
      ]
     },
     "metadata": {},
     "output_type": "display_data"
    },
    {
     "data": {
      "text/html": [
       "<pre>| num_factors                    | Factor Dimension                                 | 8        |</pre>"
      ],
      "text/plain": [
       "| num_factors                    | Factor Dimension                                 | 8        |"
      ]
     },
     "metadata": {},
     "output_type": "display_data"
    },
    {
     "data": {
      "text/html": [
       "<pre>| regularization                 | L2 Regularization on Factors                     | 0.1      |</pre>"
      ],
      "text/plain": [
       "| regularization                 | L2 Regularization on Factors                     | 0.1      |"
      ]
     },
     "metadata": {},
     "output_type": "display_data"
    },
    {
     "data": {
      "text/html": [
       "<pre>| solver                         | Solver used for training                         | sgd      |</pre>"
      ],
      "text/plain": [
       "| solver                         | Solver used for training                         | sgd      |"
      ]
     },
     "metadata": {},
     "output_type": "display_data"
    },
    {
     "data": {
      "text/html": [
       "<pre>| linear_regularization          | L2 Regularization on Linear Coefficients         | 1e-010   |</pre>"
      ],
      "text/plain": [
       "| linear_regularization          | L2 Regularization on Linear Coefficients         | 1e-010   |"
      ]
     },
     "metadata": {},
     "output_type": "display_data"
    },
    {
     "data": {
      "text/html": [
       "<pre>| max_iterations                 | Maximum Number of Iterations                     | 50       |</pre>"
      ],
      "text/plain": [
       "| max_iterations                 | Maximum Number of Iterations                     | 50       |"
      ]
     },
     "metadata": {},
     "output_type": "display_data"
    },
    {
     "data": {
      "text/html": [
       "<pre>+--------------------------------+--------------------------------------------------+----------+</pre>"
      ],
      "text/plain": [
       "+--------------------------------+--------------------------------------------------+----------+"
      ]
     },
     "metadata": {},
     "output_type": "display_data"
    },
    {
     "data": {
      "text/html": [
       "<pre>  Optimizing model using SGD; tuning step size.</pre>"
      ],
      "text/plain": [
       "  Optimizing model using SGD; tuning step size."
      ]
     },
     "metadata": {},
     "output_type": "display_data"
    },
    {
     "data": {
      "text/html": [
       "<pre>  Using 10000 / 49965 points for tuning the step size.</pre>"
      ],
      "text/plain": [
       "  Using 10000 / 49965 points for tuning the step size."
      ]
     },
     "metadata": {},
     "output_type": "display_data"
    },
    {
     "data": {
      "text/html": [
       "<pre>+---------+-------------------+------------------------------------------+</pre>"
      ],
      "text/plain": [
       "+---------+-------------------+------------------------------------------+"
      ]
     },
     "metadata": {},
     "output_type": "display_data"
    },
    {
     "data": {
      "text/html": [
       "<pre>| Attempt | Initial Step Size | Estimated Objective Value                |</pre>"
      ],
      "text/plain": [
       "| Attempt | Initial Step Size | Estimated Objective Value                |"
      ]
     },
     "metadata": {},
     "output_type": "display_data"
    },
    {
     "data": {
      "text/html": [
       "<pre>+---------+-------------------+------------------------------------------+</pre>"
      ],
      "text/plain": [
       "+---------+-------------------+------------------------------------------+"
      ]
     },
     "metadata": {},
     "output_type": "display_data"
    },
    {
     "data": {
      "text/html": [
       "<pre>| 0       | 0.014736          | Not Viable                               |</pre>"
      ],
      "text/plain": [
       "| 0       | 0.014736          | Not Viable                               |"
      ]
     },
     "metadata": {},
     "output_type": "display_data"
    },
    {
     "data": {
      "text/html": [
       "<pre>| 1       | 0.003684          | 1.13269                                  |</pre>"
      ],
      "text/plain": [
       "| 1       | 0.003684          | 1.13269                                  |"
      ]
     },
     "metadata": {},
     "output_type": "display_data"
    },
    {
     "data": {
      "text/html": [
       "<pre>| 2       | 0.001842          | 1.19215                                  |</pre>"
      ],
      "text/plain": [
       "| 2       | 0.001842          | 1.19215                                  |"
      ]
     },
     "metadata": {},
     "output_type": "display_data"
    },
    {
     "data": {
      "text/html": [
       "<pre>| 3       | 0.000921          | 1.22891                                  |</pre>"
      ],
      "text/plain": [
       "| 3       | 0.000921          | 1.22891                                  |"
      ]
     },
     "metadata": {},
     "output_type": "display_data"
    },
    {
     "data": {
      "text/html": [
       "<pre>| 4       | 0.0004605         | 1.25049                                  |</pre>"
      ],
      "text/plain": [
       "| 4       | 0.0004605         | 1.25049                                  |"
      ]
     },
     "metadata": {},
     "output_type": "display_data"
    },
    {
     "data": {
      "text/html": [
       "<pre>+---------+-------------------+------------------------------------------+</pre>"
      ],
      "text/plain": [
       "+---------+-------------------+------------------------------------------+"
      ]
     },
     "metadata": {},
     "output_type": "display_data"
    },
    {
     "data": {
      "text/html": [
       "<pre>| Final   | 0.003684          | 1.13269                                  |</pre>"
      ],
      "text/plain": [
       "| Final   | 0.003684          | 1.13269                                  |"
      ]
     },
     "metadata": {},
     "output_type": "display_data"
    },
    {
     "data": {
      "text/html": [
       "<pre>+---------+-------------------+------------------------------------------+</pre>"
      ],
      "text/plain": [
       "+---------+-------------------+------------------------------------------+"
      ]
     },
     "metadata": {},
     "output_type": "display_data"
    },
    {
     "data": {
      "text/html": [
       "<pre>Starting Optimization.</pre>"
      ],
      "text/plain": [
       "Starting Optimization."
      ]
     },
     "metadata": {},
     "output_type": "display_data"
    },
    {
     "data": {
      "text/html": [
       "<pre>+---------+--------------+-------------------+-----------------------+-------------+</pre>"
      ],
      "text/plain": [
       "+---------+--------------+-------------------+-----------------------+-------------+"
      ]
     },
     "metadata": {},
     "output_type": "display_data"
    },
    {
     "data": {
      "text/html": [
       "<pre>| Iter.   | Elapsed Time | Approx. Objective | Approx. Training RMSE | Step Size   |</pre>"
      ],
      "text/plain": [
       "| Iter.   | Elapsed Time | Approx. Objective | Approx. Training RMSE | Step Size   |"
      ]
     },
     "metadata": {},
     "output_type": "display_data"
    },
    {
     "data": {
      "text/html": [
       "<pre>+---------+--------------+-------------------+-----------------------+-------------+</pre>"
      ],
      "text/plain": [
       "+---------+--------------+-------------------+-----------------------+-------------+"
      ]
     },
     "metadata": {},
     "output_type": "display_data"
    },
    {
     "data": {
      "text/html": [
       "<pre>| Initial | 0us          | 1.25904           | 1.12207               |             |</pre>"
      ],
      "text/plain": [
       "| Initial | 0us          | 1.25904           | 1.12207               |             |"
      ]
     },
     "metadata": {},
     "output_type": "display_data"
    },
    {
     "data": {
      "text/html": [
       "<pre>+---------+--------------+-------------------+-----------------------+-------------+</pre>"
      ],
      "text/plain": [
       "+---------+--------------+-------------------+-----------------------+-------------+"
      ]
     },
     "metadata": {},
     "output_type": "display_data"
    },
    {
     "data": {
      "text/html": [
       "<pre>| 1       | 53.148ms     | DIVERGED          | DIVERGED              | 0.003684    |</pre>"
      ],
      "text/plain": [
       "| 1       | 53.148ms     | DIVERGED          | DIVERGED              | 0.003684    |"
      ]
     },
     "metadata": {},
     "output_type": "display_data"
    },
    {
     "data": {
      "text/html": [
       "<pre>| RESET   | 61.154ms     | 1.25907           | 1.12208               |             |</pre>"
      ],
      "text/plain": [
       "| RESET   | 61.154ms     | 1.25907           | 1.12208               |             |"
      ]
     },
     "metadata": {},
     "output_type": "display_data"
    },
    {
     "data": {
      "text/html": [
       "<pre>| 1       | 107.736ms    | DIVERGED          | DIVERGED              | 0.001842    |</pre>"
      ],
      "text/plain": [
       "| 1       | 107.736ms    | DIVERGED          | DIVERGED              | 0.001842    |"
      ]
     },
     "metadata": {},
     "output_type": "display_data"
    },
    {
     "data": {
      "text/html": [
       "<pre>| RESET   | 114.269ms    | 1.25904           | 1.12207               |             |</pre>"
      ],
      "text/plain": [
       "| RESET   | 114.269ms    | 1.25904           | 1.12207               |             |"
      ]
     },
     "metadata": {},
     "output_type": "display_data"
    },
    {
     "data": {
      "text/html": [
       "<pre>| 1       | 153.12ms     | 1.18749           | 1.08972               | 0.000921    |</pre>"
      ],
      "text/plain": [
       "| 1       | 153.12ms     | 1.18749           | 1.08972               | 0.000921    |"
      ]
     },
     "metadata": {},
     "output_type": "display_data"
    },
    {
     "data": {
      "text/html": [
       "<pre>| 2       | 189.658ms    | 1.11495           | 1.05591               | 0.000164412 |</pre>"
      ],
      "text/plain": [
       "| 2       | 189.658ms    | 1.11495           | 1.05591               | 0.000164412 |"
      ]
     },
     "metadata": {},
     "output_type": "display_data"
    },
    {
     "data": {
      "text/html": [
       "<pre>| 3       | 222.113ms    | 1.10232           | 1.04991               |             |</pre>"
      ],
      "text/plain": [
       "| 3       | 222.113ms    | 1.10232           | 1.04991               |             |"
      ]
     },
     "metadata": {},
     "output_type": "display_data"
    },
    {
     "data": {
      "text/html": [
       "<pre>| 4       | 260.267ms    | 1.0953            | 1.04656               |             |</pre>"
      ],
      "text/plain": [
       "| 4       | 260.267ms    | 1.0953            | 1.04656               |             |"
      ]
     },
     "metadata": {},
     "output_type": "display_data"
    },
    {
     "data": {
      "text/html": [
       "<pre>| 5       | 285.872ms    | 1.09046           | 1.04425               |             |</pre>"
      ],
      "text/plain": [
       "| 5       | 285.872ms    | 1.09046           | 1.04425               |             |"
      ]
     },
     "metadata": {},
     "output_type": "display_data"
    },
    {
     "data": {
      "text/html": [
       "<pre>| 6       | 325.243ms    | 1.0868            | 1.0425                |             |</pre>"
      ],
      "text/plain": [
       "| 6       | 325.243ms    | 1.0868            | 1.0425                |             |"
      ]
     },
     "metadata": {},
     "output_type": "display_data"
    },
    {
     "data": {
      "text/html": [
       "<pre>| 11      | 483.253ms    | 1.07588           | 1.03725               |             |</pre>"
      ],
      "text/plain": [
       "| 11      | 483.253ms    | 1.07588           | 1.03725               |             |"
      ]
     },
     "metadata": {},
     "output_type": "display_data"
    },
    {
     "data": {
      "text/html": [
       "<pre>| 48      | 1.57s        | 1.05401           | 1.02665               | 4.2387e-006 |</pre>"
      ],
      "text/plain": [
       "| 48      | 1.57s        | 1.05401           | 1.02665               | 4.2387e-006 |"
      ]
     },
     "metadata": {},
     "output_type": "display_data"
    },
    {
     "data": {
      "text/html": [
       "<pre>+---------+--------------+-------------------+-----------------------+-------------+</pre>"
      ],
      "text/plain": [
       "+---------+--------------+-------------------+-----------------------+-------------+"
      ]
     },
     "metadata": {},
     "output_type": "display_data"
    },
    {
     "data": {
      "text/html": [
       "<pre>Optimization Complete: Maximum number of passes through the data reached.</pre>"
      ],
      "text/plain": [
       "Optimization Complete: Maximum number of passes through the data reached."
      ]
     },
     "metadata": {},
     "output_type": "display_data"
    },
    {
     "data": {
      "text/html": [
       "<pre>Computing final objective value and training RMSE.</pre>"
      ],
      "text/plain": [
       "Computing final objective value and training RMSE."
      ]
     },
     "metadata": {},
     "output_type": "display_data"
    },
    {
     "data": {
      "text/html": [
       "<pre>       Final objective value: 1.05332</pre>"
      ],
      "text/plain": [
       "       Final objective value: 1.05332"
      ]
     },
     "metadata": {},
     "output_type": "display_data"
    },
    {
     "data": {
      "text/html": [
       "<pre>       Final training RMSE: 1.02631</pre>"
      ],
      "text/plain": [
       "       Final training RMSE: 1.02631"
      ]
     },
     "metadata": {},
     "output_type": "display_data"
    },
    {
     "name": "stdout",
     "output_type": "stream",
     "text": [
      "Best Regularization Term 0.001\n",
      "Best Validation RMSE Achieved 0.935978294474\n",
      "Canvas is accessible via web browser at the URL: http://localhost:51939/index.html\n",
      "Opening Canvas in default web browser.\n"
     ]
    },
    {
     "data": {
      "text/plain": [
       "View object\n",
       "\n",
       "URI: \t\thttp://localhost:32212/view/e6611e1b-8619-4e3a-b57c-ddc19f5735cd\n",
       "HTML: \t\t\n",
       "<gl-recommender-evaluate\n",
       "    uri=\"http://localhost:32212/view/f0cbaf98-c09a-4352-bb41-ff48e159fbd4\"\n",
       "    api_key=\"\"\n",
       "/>\n",
       "        "
      ]
     },
     "execution_count": 11,
     "metadata": {},
     "output_type": "execute_result"
    }
   ],
   "source": [
    "regularization_terms = [10**-5,10**-4,10**-3,10**-2,10**-1]\n",
    "best_regularization_term=0\n",
    "best_RMSE = np.inf\n",
    "for regularization_term in regularization_terms:\n",
    "    factorization_recommender = gl.recommender.factorization_recommender.create(sf_train,\n",
    "                                                                                      target='rating',\n",
    "                                                                                      regularization=regularization_term)\n",
    "    evaluation = factorization_recommender.evaluate_rmse(sf_validate,'rating')\n",
    "    if evaluation['rmse_overall'] < best_RMSE:\n",
    "        best_RMSE = evaluation['rmse_overall']\n",
    "        best_regularization_term = regularization_term\n",
    "print \"Best Regularization Term\", best_regularization_term\n",
    "print \"Best Validation RMSE Achieved\", best_RMSE\n",
    "\n",
    "#to show a graph\n",
    "factorization_recommender.show()\n",
    "\n",
    "#to show it in intractive graph\n",
    "view = factorization_recommender.views.evaluate(sf_validate)\n",
    "view.show()"
   ]
  },
  {
   "cell_type": "markdown",
   "metadata": {},
   "source": [
    "<img src=\"Chart1.PNG\" width =500 height =500>"
   ]
  },
  {
   "cell_type": "markdown",
   "metadata": {},
   "source": [
    "<img src=\"Chart2.PNG\" width =500 height =500>"
   ]
  },
  {
   "cell_type": "markdown",
   "metadata": {},
   "source": [
    "<img src=\"Data1.PNG\" width =500 height =500>"
   ]
  },
  {
   "cell_type": "markdown",
   "metadata": {},
   "source": [
    "**Collaborative Filtering - Validation set**"
   ]
  },
  {
   "cell_type": "code",
   "execution_count": 12,
   "metadata": {
    "collapsed": false
   },
   "outputs": [
    {
     "data": {
      "text/html": [
       "<pre>Recsys training: model = factorization_recommender</pre>"
      ],
      "text/plain": [
       "Recsys training: model = factorization_recommender"
      ]
     },
     "metadata": {},
     "output_type": "display_data"
    },
    {
     "data": {
      "text/html": [
       "<pre>Preparing data set.</pre>"
      ],
      "text/plain": [
       "Preparing data set."
      ]
     },
     "metadata": {},
     "output_type": "display_data"
    },
    {
     "data": {
      "text/html": [
       "<pre>    Data has 49965 observations with 568 users and 1590 items.</pre>"
      ],
      "text/plain": [
       "    Data has 49965 observations with 568 users and 1590 items."
      ]
     },
     "metadata": {},
     "output_type": "display_data"
    },
    {
     "data": {
      "text/html": [
       "<pre>    Data prepared in: 0.111832s</pre>"
      ],
      "text/plain": [
       "    Data prepared in: 0.111832s"
      ]
     },
     "metadata": {},
     "output_type": "display_data"
    },
    {
     "data": {
      "text/html": [
       "<pre>Training factorization_recommender for recommendations.</pre>"
      ],
      "text/plain": [
       "Training factorization_recommender for recommendations."
      ]
     },
     "metadata": {},
     "output_type": "display_data"
    },
    {
     "data": {
      "text/html": [
       "<pre>+--------------------------------+--------------------------------------------------+----------+</pre>"
      ],
      "text/plain": [
       "+--------------------------------+--------------------------------------------------+----------+"
      ]
     },
     "metadata": {},
     "output_type": "display_data"
    },
    {
     "data": {
      "text/html": [
       "<pre>| Parameter                      | Description                                      | Value    |</pre>"
      ],
      "text/plain": [
       "| Parameter                      | Description                                      | Value    |"
      ]
     },
     "metadata": {},
     "output_type": "display_data"
    },
    {
     "data": {
      "text/html": [
       "<pre>+--------------------------------+--------------------------------------------------+----------+</pre>"
      ],
      "text/plain": [
       "+--------------------------------+--------------------------------------------------+----------+"
      ]
     },
     "metadata": {},
     "output_type": "display_data"
    },
    {
     "data": {
      "text/html": [
       "<pre>| num_factors                    | Factor Dimension                                 | 8        |</pre>"
      ],
      "text/plain": [
       "| num_factors                    | Factor Dimension                                 | 8        |"
      ]
     },
     "metadata": {},
     "output_type": "display_data"
    },
    {
     "data": {
      "text/html": [
       "<pre>| regularization                 | L2 Regularization on Factors                     | 0.001    |</pre>"
      ],
      "text/plain": [
       "| regularization                 | L2 Regularization on Factors                     | 0.001    |"
      ]
     },
     "metadata": {},
     "output_type": "display_data"
    },
    {
     "data": {
      "text/html": [
       "<pre>| solver                         | Solver used for training                         | sgd      |</pre>"
      ],
      "text/plain": [
       "| solver                         | Solver used for training                         | sgd      |"
      ]
     },
     "metadata": {},
     "output_type": "display_data"
    },
    {
     "data": {
      "text/html": [
       "<pre>| linear_regularization          | L2 Regularization on Linear Coefficients         | 1e-010   |</pre>"
      ],
      "text/plain": [
       "| linear_regularization          | L2 Regularization on Linear Coefficients         | 1e-010   |"
      ]
     },
     "metadata": {},
     "output_type": "display_data"
    },
    {
     "data": {
      "text/html": [
       "<pre>| max_iterations                 | Maximum Number of Iterations                     | 50       |</pre>"
      ],
      "text/plain": [
       "| max_iterations                 | Maximum Number of Iterations                     | 50       |"
      ]
     },
     "metadata": {},
     "output_type": "display_data"
    },
    {
     "data": {
      "text/html": [
       "<pre>+--------------------------------+--------------------------------------------------+----------+</pre>"
      ],
      "text/plain": [
       "+--------------------------------+--------------------------------------------------+----------+"
      ]
     },
     "metadata": {},
     "output_type": "display_data"
    },
    {
     "data": {
      "text/html": [
       "<pre>  Optimizing model using SGD; tuning step size.</pre>"
      ],
      "text/plain": [
       "  Optimizing model using SGD; tuning step size."
      ]
     },
     "metadata": {},
     "output_type": "display_data"
    },
    {
     "data": {
      "text/html": [
       "<pre>  Using 10000 / 49965 points for tuning the step size.</pre>"
      ],
      "text/plain": [
       "  Using 10000 / 49965 points for tuning the step size."
      ]
     },
     "metadata": {},
     "output_type": "display_data"
    },
    {
     "data": {
      "text/html": [
       "<pre>+---------+-------------------+------------------------------------------+</pre>"
      ],
      "text/plain": [
       "+---------+-------------------+------------------------------------------+"
      ]
     },
     "metadata": {},
     "output_type": "display_data"
    },
    {
     "data": {
      "text/html": [
       "<pre>| Attempt | Initial Step Size | Estimated Objective Value                |</pre>"
      ],
      "text/plain": [
       "| Attempt | Initial Step Size | Estimated Objective Value                |"
      ]
     },
     "metadata": {},
     "output_type": "display_data"
    },
    {
     "data": {
      "text/html": [
       "<pre>+---------+-------------------+------------------------------------------+</pre>"
      ],
      "text/plain": [
       "+---------+-------------------+------------------------------------------+"
      ]
     },
     "metadata": {},
     "output_type": "display_data"
    },
    {
     "data": {
      "text/html": [
       "<pre>| 0       | 1.4736            | Not Viable                               |</pre>"
      ],
      "text/plain": [
       "| 0       | 1.4736            | Not Viable                               |"
      ]
     },
     "metadata": {},
     "output_type": "display_data"
    },
    {
     "data": {
      "text/html": [
       "<pre>| 1       | 0.3684            | Not Viable                               |</pre>"
      ],
      "text/plain": [
       "| 1       | 0.3684            | Not Viable                               |"
      ]
     },
     "metadata": {},
     "output_type": "display_data"
    },
    {
     "data": {
      "text/html": [
       "<pre>| 2       | 0.0921            | 0.739929                                 |</pre>"
      ],
      "text/plain": [
       "| 2       | 0.0921            | 0.739929                                 |"
      ]
     },
     "metadata": {},
     "output_type": "display_data"
    },
    {
     "data": {
      "text/html": [
       "<pre>| 3       | 0.04605           | 0.765532                                 |</pre>"
      ],
      "text/plain": [
       "| 3       | 0.04605           | 0.765532                                 |"
      ]
     },
     "metadata": {},
     "output_type": "display_data"
    },
    {
     "data": {
      "text/html": [
       "<pre>| 4       | 0.023025          | 0.80047                                  |</pre>"
      ],
      "text/plain": [
       "| 4       | 0.023025          | 0.80047                                  |"
      ]
     },
     "metadata": {},
     "output_type": "display_data"
    },
    {
     "data": {
      "text/html": [
       "<pre>| 5       | 0.0115125         | 0.848377                                 |</pre>"
      ],
      "text/plain": [
       "| 5       | 0.0115125         | 0.848377                                 |"
      ]
     },
     "metadata": {},
     "output_type": "display_data"
    },
    {
     "data": {
      "text/html": [
       "<pre>+---------+-------------------+------------------------------------------+</pre>"
      ],
      "text/plain": [
       "+---------+-------------------+------------------------------------------+"
      ]
     },
     "metadata": {},
     "output_type": "display_data"
    },
    {
     "data": {
      "text/html": [
       "<pre>| Final   | 0.0921            | 0.739929                                 |</pre>"
      ],
      "text/plain": [
       "| Final   | 0.0921            | 0.739929                                 |"
      ]
     },
     "metadata": {},
     "output_type": "display_data"
    },
    {
     "data": {
      "text/html": [
       "<pre>+---------+-------------------+------------------------------------------+</pre>"
      ],
      "text/plain": [
       "+---------+-------------------+------------------------------------------+"
      ]
     },
     "metadata": {},
     "output_type": "display_data"
    },
    {
     "data": {
      "text/html": [
       "<pre>Starting Optimization.</pre>"
      ],
      "text/plain": [
       "Starting Optimization."
      ]
     },
     "metadata": {},
     "output_type": "display_data"
    },
    {
     "data": {
      "text/html": [
       "<pre>+---------+--------------+-------------------+-----------------------+-------------+</pre>"
      ],
      "text/plain": [
       "+---------+--------------+-------------------+-----------------------+-------------+"
      ]
     },
     "metadata": {},
     "output_type": "display_data"
    },
    {
     "data": {
      "text/html": [
       "<pre>| Iter.   | Elapsed Time | Approx. Objective | Approx. Training RMSE | Step Size   |</pre>"
      ],
      "text/plain": [
       "| Iter.   | Elapsed Time | Approx. Objective | Approx. Training RMSE | Step Size   |"
      ]
     },
     "metadata": {},
     "output_type": "display_data"
    },
    {
     "data": {
      "text/html": [
       "<pre>+---------+--------------+-------------------+-----------------------+-------------+</pre>"
      ],
      "text/plain": [
       "+---------+--------------+-------------------+-----------------------+-------------+"
      ]
     },
     "metadata": {},
     "output_type": "display_data"
    },
    {
     "data": {
      "text/html": [
       "<pre>| Initial | 0us          | 1.25903           | 1.12207               |             |</pre>"
      ],
      "text/plain": [
       "| Initial | 0us          | 1.25903           | 1.12207               |             |"
      ]
     },
     "metadata": {},
     "output_type": "display_data"
    },
    {
     "data": {
      "text/html": [
       "<pre>+---------+--------------+-------------------+-----------------------+-------------+</pre>"
      ],
      "text/plain": [
       "+---------+--------------+-------------------+-----------------------+-------------+"
      ]
     },
     "metadata": {},
     "output_type": "display_data"
    },
    {
     "data": {
      "text/html": [
       "<pre>| 1       | 60.159ms     | DIVERGED          | DIVERGED              | 0.0921      |</pre>"
      ],
      "text/plain": [
       "| 1       | 60.159ms     | DIVERGED          | DIVERGED              | 0.0921      |"
      ]
     },
     "metadata": {},
     "output_type": "display_data"
    },
    {
     "data": {
      "text/html": [
       "<pre>| RESET   | 69.684ms     | 1.25909           | 1.12209               |             |</pre>"
      ],
      "text/plain": [
       "| RESET   | 69.684ms     | 1.25909           | 1.12209               |             |"
      ]
     },
     "metadata": {},
     "output_type": "display_data"
    },
    {
     "data": {
      "text/html": [
       "<pre>| 1       | 138.367ms    | DIVERGED          | DIVERGED              | 0.04605     |</pre>"
      ],
      "text/plain": [
       "| 1       | 138.367ms    | DIVERGED          | DIVERGED              | 0.04605     |"
      ]
     },
     "metadata": {},
     "output_type": "display_data"
    },
    {
     "data": {
      "text/html": [
       "<pre>| RESET   | 143.38ms     | 1.25909           | 1.12209               |             |</pre>"
      ],
      "text/plain": [
       "| RESET   | 143.38ms     | 1.25909           | 1.12209               |             |"
      ]
     },
     "metadata": {},
     "output_type": "display_data"
    },
    {
     "data": {
      "text/html": [
       "<pre>| 1       | 206.046ms    | 0.964835          | 0.982259              | 0.023025    |</pre>"
      ],
      "text/plain": [
       "| 1       | 206.046ms    | 0.964835          | 0.982259              | 0.023025    |"
      ]
     },
     "metadata": {},
     "output_type": "display_data"
    },
    {
     "data": {
      "text/html": [
       "<pre>| 2       | 255.679ms    | 0.868342          | 0.931848              | 0.0107071   |</pre>"
      ],
      "text/plain": [
       "| 2       | 255.679ms    | 0.868342          | 0.931848              | 0.0107071   |"
      ]
     },
     "metadata": {},
     "output_type": "display_data"
    },
    {
     "data": {
      "text/html": [
       "<pre>| 3       | 291.774ms    | 0.847372          | 0.920528              | 0.0069754   |</pre>"
      ],
      "text/plain": [
       "| 3       | 291.774ms    | 0.847372          | 0.920528              | 0.0069754   |"
      ]
     },
     "metadata": {},
     "output_type": "display_data"
    },
    {
     "data": {
      "text/html": [
       "<pre>| 4       | 329.375ms    | 0.838452          | 0.91567               | 0.00517261  |</pre>"
      ],
      "text/plain": [
       "| 4       | 329.375ms    | 0.838452          | 0.91567               | 0.00517261  |"
      ]
     },
     "metadata": {},
     "output_type": "display_data"
    },
    {
     "data": {
      "text/html": [
       "<pre>| 5       | 358.452ms    | 0.832959          | 0.912666              | 0.0041103   |</pre>"
      ],
      "text/plain": [
       "| 5       | 358.452ms    | 0.832959          | 0.912666              | 0.0041103   |"
      ]
     },
     "metadata": {},
     "output_type": "display_data"
    },
    {
     "data": {
      "text/html": [
       "<pre>| 6       | 390.036ms    | 0.829538          | 0.91079               | 0.00340999  |</pre>"
      ],
      "text/plain": [
       "| 6       | 390.036ms    | 0.829538          | 0.91079               | 0.00340999  |"
      ]
     },
     "metadata": {},
     "output_type": "display_data"
    },
    {
     "data": {
      "text/html": [
       "<pre>| 11      | 555.977ms    | 0.821285          | 0.906248              | 0.00184135  |</pre>"
      ],
      "text/plain": [
       "| 11      | 555.977ms    | 0.821285          | 0.906248              | 0.00184135  |"
      ]
     },
     "metadata": {},
     "output_type": "display_data"
    },
    {
     "name": "stdout",
     "output_type": "stream",
     "text": [
      "Test RMSE on best model"
     ]
    },
    {
     "data": {
      "text/html": [
       "<pre>| 48      | 2.00s        | 0.812261          | 0.901255              | 0.000418098 |</pre>"
      ],
      "text/plain": [
       "| 48      | 2.00s        | 0.812261          | 0.901255              | 0.000418098 |"
      ]
     },
     "metadata": {},
     "output_type": "display_data"
    },
    {
     "data": {
      "text/html": [
       "<pre>+---------+--------------+-------------------+-----------------------+-------------+</pre>"
      ],
      "text/plain": [
       "+---------+--------------+-------------------+-----------------------+-------------+"
      ]
     },
     "metadata": {},
     "output_type": "display_data"
    },
    {
     "data": {
      "text/html": [
       "<pre>Optimization Complete: Maximum number of passes through the data reached.</pre>"
      ],
      "text/plain": [
       "Optimization Complete: Maximum number of passes through the data reached."
      ]
     },
     "metadata": {},
     "output_type": "display_data"
    },
    {
     "data": {
      "text/html": [
       "<pre>Computing final objective value and training RMSE.</pre>"
      ],
      "text/plain": [
       "Computing final objective value and training RMSE."
      ]
     },
     "metadata": {},
     "output_type": "display_data"
    },
    {
     "data": {
      "text/html": [
       "<pre>       Final objective value: 0.810816</pre>"
      ],
      "text/plain": [
       "       Final objective value: 0.810816"
      ]
     },
     "metadata": {},
     "output_type": "display_data"
    },
    {
     "data": {
      "text/html": [
       "<pre>       Final training RMSE: 0.900453</pre>"
      ],
      "text/plain": [
       "       Final training RMSE: 0.900453"
      ]
     },
     "metadata": {},
     "output_type": "display_data"
    },
    {
     "name": "stdout",
     "output_type": "stream",
     "text": [
      " 0.940223937639\n"
     ]
    }
   ],
   "source": [
    "factorization_recommender = gl.recommender.factorization_recommender.create(sf_train,\n",
    "                                                                                  target='rating',\n",
    "                                                                                  regularization=best_regularization_term)\n",
    "print \"Test RMSE on best model\", factorization_recommender.evaluate_rmse(sf_test,'rating')['rmse_overall']\n"
   ]
  },
  {
   "cell_type": "markdown",
   "metadata": {},
   "source": [
    "**Item-Item Similarity Recommender**\n",
    "\n",
    "This model first computes the similarity between items using the observations of users who have interacted with both items"
   ]
  },
  {
   "cell_type": "code",
   "execution_count": 13,
   "metadata": {
    "collapsed": false
   },
   "outputs": [
    {
     "data": {
      "text/html": [
       "<pre>Recsys training: model = item_similarity</pre>"
      ],
      "text/plain": [
       "Recsys training: model = item_similarity"
      ]
     },
     "metadata": {},
     "output_type": "display_data"
    },
    {
     "data": {
      "text/html": [
       "<pre>Preparing data set.</pre>"
      ],
      "text/plain": [
       "Preparing data set."
      ]
     },
     "metadata": {},
     "output_type": "display_data"
    },
    {
     "data": {
      "text/html": [
       "<pre>    Data has 49965 observations with 568 users and 1590 items.</pre>"
      ],
      "text/plain": [
       "    Data has 49965 observations with 568 users and 1590 items."
      ]
     },
     "metadata": {},
     "output_type": "display_data"
    },
    {
     "data": {
      "text/html": [
       "<pre>    Data prepared in: 0.069031s</pre>"
      ],
      "text/plain": [
       "    Data prepared in: 0.069031s"
      ]
     },
     "metadata": {},
     "output_type": "display_data"
    },
    {
     "data": {
      "text/html": [
       "<pre>Training model from provided data.</pre>"
      ],
      "text/plain": [
       "Training model from provided data."
      ]
     },
     "metadata": {},
     "output_type": "display_data"
    },
    {
     "data": {
      "text/html": [
       "<pre>Gathering per-item and per-user statistics.</pre>"
      ],
      "text/plain": [
       "Gathering per-item and per-user statistics."
      ]
     },
     "metadata": {},
     "output_type": "display_data"
    },
    {
     "data": {
      "text/html": [
       "<pre>+--------------------------------+------------+</pre>"
      ],
      "text/plain": [
       "+--------------------------------+------------+"
      ]
     },
     "metadata": {},
     "output_type": "display_data"
    },
    {
     "data": {
      "text/html": [
       "<pre>| Elapsed Time (Item Statistics) | % Complete |</pre>"
      ],
      "text/plain": [
       "| Elapsed Time (Item Statistics) | % Complete |"
      ]
     },
     "metadata": {},
     "output_type": "display_data"
    },
    {
     "data": {
      "text/html": [
       "<pre>+--------------------------------+------------+</pre>"
      ],
      "text/plain": [
       "+--------------------------------+------------+"
      ]
     },
     "metadata": {},
     "output_type": "display_data"
    },
    {
     "data": {
      "text/html": [
       "<pre>| 0us                            | 100        |</pre>"
      ],
      "text/plain": [
       "| 0us                            | 100        |"
      ]
     },
     "metadata": {},
     "output_type": "display_data"
    },
    {
     "data": {
      "text/html": [
       "<pre>+--------------------------------+------------+</pre>"
      ],
      "text/plain": [
       "+--------------------------------+------------+"
      ]
     },
     "metadata": {},
     "output_type": "display_data"
    },
    {
     "data": {
      "text/html": [
       "<pre>Setting up lookup tables.</pre>"
      ],
      "text/plain": [
       "Setting up lookup tables."
      ]
     },
     "metadata": {},
     "output_type": "display_data"
    },
    {
     "data": {
      "text/html": [
       "<pre>Processing data in one pass using dense lookup tables.</pre>"
      ],
      "text/plain": [
       "Processing data in one pass using dense lookup tables."
      ]
     },
     "metadata": {},
     "output_type": "display_data"
    },
    {
     "data": {
      "text/html": [
       "<pre>+-------------------------------------+------------------+-----------------+</pre>"
      ],
      "text/plain": [
       "+-------------------------------------+------------------+-----------------+"
      ]
     },
     "metadata": {},
     "output_type": "display_data"
    },
    {
     "data": {
      "text/html": [
       "<pre>| Elapsed Time (Constructing Lookups) | Total % Complete | Items Processed |</pre>"
      ],
      "text/plain": [
       "| Elapsed Time (Constructing Lookups) | Total % Complete | Items Processed |"
      ]
     },
     "metadata": {},
     "output_type": "display_data"
    },
    {
     "data": {
      "text/html": [
       "<pre>+-------------------------------------+------------------+-----------------+</pre>"
      ],
      "text/plain": [
       "+-------------------------------------+------------------+-----------------+"
      ]
     },
     "metadata": {},
     "output_type": "display_data"
    },
    {
     "data": {
      "text/html": [
       "<pre>| 0us                                 | 0                | 0               |</pre>"
      ],
      "text/plain": [
       "| 0us                                 | 0                | 0               |"
      ]
     },
     "metadata": {},
     "output_type": "display_data"
    },
    {
     "data": {
      "text/html": [
       "<pre>| 100.288ms                           | 100              | 1590            |</pre>"
      ],
      "text/plain": [
       "| 100.288ms                           | 100              | 1590            |"
      ]
     },
     "metadata": {},
     "output_type": "display_data"
    },
    {
     "data": {
      "text/html": [
       "<pre>+-------------------------------------+------------------+-----------------+</pre>"
      ],
      "text/plain": [
       "+-------------------------------------+------------------+-----------------+"
      ]
     },
     "metadata": {},
     "output_type": "display_data"
    },
    {
     "name": "stdout",
     "output_type": "stream",
     "text": [
      "Test RMSE on model"
     ]
    },
    {
     "data": {
      "text/html": [
       "<pre>Finalizing lookup tables.</pre>"
      ],
      "text/plain": [
       "Finalizing lookup tables."
      ]
     },
     "metadata": {},
     "output_type": "display_data"
    },
    {
     "data": {
      "text/html": [
       "<pre>Generating candidate set for working with new users.</pre>"
      ],
      "text/plain": [
       "Generating candidate set for working with new users."
      ]
     },
     "metadata": {},
     "output_type": "display_data"
    },
    {
     "data": {
      "text/html": [
       "<pre>Finished training in 0.100288s</pre>"
      ],
      "text/plain": [
       "Finished training in 0.100288s"
      ]
     },
     "metadata": {},
     "output_type": "display_data"
    },
    {
     "name": "stdout",
     "output_type": "stream",
     "text": [
      " 3.65552081794\n"
     ]
    },
    {
     "data": {
      "text/plain": [
       "dtype: float\n",
       "Rows: 21995\n",
       "[0.017236971464313446, 0.009476357612057009, 0.01802758553932453, 0.023346427522721837, 0.0029839809856487317, 0.0, 0.03946353712974236, 0.04077584894610123, 0.0, 0.07792791800621228, 0.0011947430590147612, 0.0078731369972229, 0.014337611198425294, 0.05699111971744271, 0.02318447910317587, 0.006497731195628973, 0.019313114881515502, 0.01754558310613363, 0.05419876317531742, 0.018670507217651088, 0.008293634653091431, 0.0, 0.012870118424699113, 0.01915279472315753, 0.024100208628004875, 0.045156659889806265, 0.06575820256363261, 0.0, 0.09463245808323727, 0.09022698737680912, 0.019285941627663627, 0.0018903595813806505, 0.010341822554212097, 0.008492468162016435, 0.0, 0.004521899270695566, 0.0008060800101228816, 0.004160178024959202, 0.05336611120255439, 0.03746527704325589, 0.04402656961419729, 0.006594951857220043, 0.0013480392156862745, 0.010793223772963432, 0.025391126016400895, 0.003909168695961988, 0.0028300979839903967, 0.009112366392642637, 0.0024784337420489908, 0.11147082490580422, 0.09804244759755257, 0.09340897798538209, 0.0, 0.014062567262460064, 0.0, 0.003782808044810354, 0.004280509030232664, 0.003875147439762504, 0.0069010842930186875, 0.0059396366038954405, 0.056987862984339395, 0.0032828443403932987, 0.018870819825679064, 0.02720168614998842, 0.02155301288554543, 0.025851009611310906, 0.021108373006184896, 0.0030305765194599855, 0.006809368797633201, 0.030455533047796975, 0.013160098309910625, 0.009210834764454463, 0.031645084013704396, 0.08036012226535429, 0.030700409098675375, 0.005205358068148295, 0.02854741639212558, 0.017708551159221163, 0.02243992281548771, 0.09767852226893108, 0.0025138258934020996, 0.001769660542544709, 0.028557007129375752, 0.008263655900955201, 0.032576330788227734, 0.01762129456163889, 0.014162307812107934, 0.07230479206357683, 0.0034287048277453843, 0.09032897424697876, 0.03123402686519477, 0.012730294941393144, 0.05812755643680532, 0.0033534729019713007, 0.04082191313306491, 0.032482095936823156, 0.003084358122708986, 0.007047441697889759, 0.03358079237832549, 0.08919235793027011, ... ]"
      ]
     },
     "execution_count": 13,
     "metadata": {},
     "output_type": "execute_result"
    }
   ],
   "source": [
    "item_similarity_recommender = gl.recommender.item_similarity_recommender.create(sf_train,target='rating')\n",
    "print \"Test RMSE on model\", item_similarity_recommender.evaluate_rmse(sf_test,'rating')['rmse_overall'] \n",
    "\n",
    "#Return a score prediction for the user ids and item ids in the provided data set.\n",
    "item_similarity_recommender.predict(sf_test, new_observation_data=None, new_user_data=None, new_item_data=None)\n"
   ]
  },
  {
   "cell_type": "markdown",
   "metadata": {},
   "source": [
    "**Top-K Recommendations**"
   ]
  },
  {
   "cell_type": "code",
   "execution_count": 14,
   "metadata": {
    "collapsed": false
   },
   "outputs": [
    {
     "name": "stdout",
     "output_type": "stream",
     "text": [
      "+---------+---------+---------------+------+\n",
      "| user_id | item_id |     score     | rank |\n",
      "+---------+---------+---------------+------+\n",
      "|   115   |   408   | 4.72377209859 |  1   |\n",
      "|   115   |   169   | 4.68151967721 |  2   |\n",
      "|   115   |   483   | 4.67288379865 |  3   |\n",
      "|   115   |   114   | 4.65567391114 |  4   |\n",
      "|   115   |    64   | 4.60892932611 |  5   |\n",
      "|   253   |   408   | 4.75145004997 |  1   |\n",
      "|   253   |   169   | 4.70919762859 |  2   |\n",
      "|   253   |   114   | 4.68335186252 |  3   |\n",
      "|   253   |   318   | 4.60510693798 |  4   |\n",
      "|   253   |   513   | 4.60478090057 |  5   |\n",
      "+---------+---------+---------------+------+\n",
      "[2840 rows x 4 columns]\n",
      "Note: Only the head of the SFrame is printed.\n",
      "You can use print_rows(num_rows=m, num_columns=n) to print more rows and columns.\n"
     ]
    }
   ],
   "source": [
    "k=5\n",
    "popularity_top_k = popularity_recommender.recommend(k=k)\n",
    "factorization_top_k = factorization_recommender.recommend(k=k)\n",
    "item_similarity_top_k = item_similarity_recommender.recommend(k=k)\n",
    "print factorization_top_k"
   ]
  },
  {
   "cell_type": "markdown",
   "metadata": {},
   "source": [
    "# Evaluation: Precision/Recall, Confusion Matrix"
   ]
  },
  {
   "cell_type": "markdown",
   "metadata": {},
   "source": [
    "**Precision/Recall comparison between the three models**\n",
    "\n",
    "Compare the prediction or recommendation performance of recommender models on a common test dataset.\n",
    "\n",
    "Models that are trained to predict ratings are compared separately from models that are trained without target ratings. The ratings prediction models are compared on root-mean-squared error, and the rest are compared on precision-recall."
   ]
  },
  {
   "cell_type": "code",
   "execution_count": 15,
   "metadata": {
    "collapsed": false
   },
   "outputs": [
    {
     "name": "stdout",
     "output_type": "stream",
     "text": [
      "PROGRESS: Evaluate model popularity_recommender\n",
      "\n",
      "Precision and recall summary statistics by cutoff\n",
      "+--------+-------------------+-------------------+\n",
      "| cutoff |   mean_precision  |    mean_recall    |\n",
      "+--------+-------------------+-------------------+\n",
      "|   1    |        0.0        |        0.0        |\n",
      "|   2    |        0.0        |        0.0        |\n",
      "|   3    |        0.0        |        0.0        |\n",
      "|   4    |        0.0        |        0.0        |\n",
      "|   5    | 0.000352112676056 | 1.41980917765e-05 |\n",
      "|   6    | 0.000293427230047 | 1.41980917765e-05 |\n",
      "|   7    | 0.000251509054326 | 1.41980917765e-05 |\n",
      "|   8    | 0.000220070422535 | 1.41980917765e-05 |\n",
      "|   9    | 0.000782472613459 | 6.46199346946e-05 |\n",
      "|   10   | 0.000704225352113 | 6.46199346946e-05 |\n",
      "+--------+-------------------+-------------------+\n",
      "[10 rows x 3 columns]\n",
      "\n",
      "PROGRESS: Evaluate model factorization_recommender\n",
      "\n",
      "Precision and recall summary statistics by cutoff\n",
      "+--------+-----------------+------------------+\n",
      "| cutoff |  mean_precision |   mean_recall    |\n",
      "+--------+-----------------+------------------+\n",
      "|   1    | 0.0598591549296 | 0.00167553668173 |\n",
      "|   2    | 0.0572183098592 | 0.00319051489513 |\n",
      "|   3    | 0.0739436619718 | 0.00620458754386 |\n",
      "|   4    | 0.0783450704225 | 0.00841612642461 |\n",
      "|   5    | 0.0904929577465 | 0.0121288693829  |\n",
      "|   6    | 0.0985915492958 |  0.015998966548  |\n",
      "|   7    |  0.101609657948 | 0.0196841283222  |\n",
      "|   8    |  0.100792253521 | 0.0228856541753  |\n",
      "|   9    |  0.103873239437 | 0.0272963135618  |\n",
      "|   10   |  0.103521126761 | 0.0295887540971  |\n",
      "+--------+-----------------+------------------+\n",
      "[10 rows x 3 columns]\n",
      "\n",
      "PROGRESS: Evaluate model item_similarity_recommender\n",
      "\n",
      "Precision and recall summary statistics by cutoff\n",
      "+--------+----------------+-----------------+\n",
      "| cutoff | mean_precision |   mean_recall   |\n",
      "+--------+----------------+-----------------+\n",
      "|   1    | 0.366197183099 | 0.0118488749677 |\n",
      "|   2    | 0.349471830986 |  0.022053764955 |\n",
      "|   3    | 0.345070422535 | 0.0330566594156 |\n",
      "|   4    | 0.347711267606 | 0.0445441595534 |\n",
      "|   5    | 0.343309859155 | 0.0546847418272 |\n",
      "|   6    | 0.335387323944 | 0.0635342797827 |\n",
      "|   7    | 0.328973843058 |  0.072322332749 |\n",
      "|   8    | 0.324383802817 | 0.0813077226052 |\n",
      "|   9    | 0.319248826291 | 0.0900686086082 |\n",
      "|   10   | 0.313204225352 | 0.0979201688706 |\n",
      "+--------+----------------+-----------------+\n",
      "[10 rows x 3 columns]\n",
      "\n"
     ]
    }
   ],
   "source": [
    "models = [popularity_recommender,factorization_recommender,item_similarity_recommender]\n",
    "model_names = ['popularity_recommender','factorization_recommender',\n",
    "               'item_similarity_recommender']\n",
    "precision_recall = gl.recommender.util.compare_models(sf_test,\n",
    "                                                      models,metric='precision_recall',\n",
    "                                                      model_names=model_names)"
   ]
  },
  {
   "cell_type": "code",
   "execution_count": 16,
   "metadata": {
    "collapsed": false
   },
   "outputs": [
    {
     "name": "stdout",
     "output_type": "stream",
     "text": [
      "PROGRESS: Evaluate model popularity_recommender\n",
      "('\\nOverall RMSE: ', 1.0285619131890746)\n",
      "\n",
      "Per User RMSE (best)\n",
      "+---------+-------+----------------+\n",
      "| user_id | count |      rmse      |\n",
      "+---------+-------+----------------+\n",
      "|    25   |   16  | 0.451728529612 |\n",
      "+---------+-------+----------------+\n",
      "[1 rows x 3 columns]\n",
      "\n",
      "\n",
      "Per User RMSE (worst)\n",
      "+---------+-------+---------------+\n",
      "| user_id | count |      rmse     |\n",
      "+---------+-------+---------------+\n",
      "|   405   |  189  | 2.02569465546 |\n",
      "+---------+-------+---------------+\n",
      "[1 rows x 3 columns]\n",
      "\n",
      "\n",
      "Per Item RMSE (best)\n",
      "+---------+-------+------+\n",
      "| item_id | count | rmse |\n",
      "+---------+-------+------+\n",
      "|   1545  |   1   | 0.0  |\n",
      "+---------+-------+------+\n",
      "[1 rows x 3 columns]\n",
      "\n",
      "\n",
      "Per Item RMSE (worst)\n",
      "+---------+-------+------+\n",
      "| item_id | count | rmse |\n",
      "+---------+-------+------+\n",
      "|   1306  |   1   | 4.0  |\n",
      "+---------+-------+------+\n",
      "[1 rows x 3 columns]\n",
      "\n",
      "PROGRESS: Evaluate model factorization_recommender\n",
      "('\\nOverall RMSE: ', 0.9402239376390233)\n",
      "\n",
      "Per User RMSE (best)\n",
      "+---------+-------+----------------+\n",
      "| user_id | count |      rmse      |\n",
      "+---------+-------+----------------+\n",
      "|   118   |   13  | 0.441636302837 |\n",
      "+---------+-------+----------------+\n",
      "[1 rows x 3 columns]\n",
      "\n",
      "\n",
      "Per User RMSE (worst)\n",
      "+---------+-------+---------------+\n",
      "| user_id | count |      rmse     |\n",
      "+---------+-------+---------------+\n",
      "|   167   |   12  | 1.69460615859 |\n",
      "+---------+-------+---------------+\n",
      "[1 rows x 3 columns]\n",
      "\n",
      "\n",
      "Per Item RMSE (best)\n",
      "+---------+-------+-----------------+\n",
      "| item_id | count |       rmse      |\n",
      "+---------+-------+-----------------+\n",
      "|   1071  |   1   | 0.0040868894969 |\n",
      "+---------+-------+-----------------+\n",
      "[1 rows x 3 columns]\n",
      "\n",
      "\n",
      "Per Item RMSE (worst)\n",
      "+---------+-------+---------------+\n",
      "| item_id | count |      rmse     |\n",
      "+---------+-------+---------------+\n",
      "|   893   |   1   | 2.76813531599 |\n",
      "+---------+-------+---------------+\n",
      "[1 rows x 3 columns]\n",
      "\n",
      "PROGRESS: Evaluate model item_similarity_recommender\n",
      "('\\nOverall RMSE: ', 3.655520817937683)\n",
      "\n",
      "Per User RMSE (best)\n",
      "+---------+-------+---------------+\n",
      "| user_id | count |      rmse     |\n",
      "+---------+-------+---------------+\n",
      "|   181   |  123  | 1.44563206224 |\n",
      "+---------+-------+---------------+\n",
      "[1 rows x 3 columns]\n",
      "\n",
      "\n",
      "Per User RMSE (worst)\n",
      "+---------+-------+--------------+\n",
      "| user_id | count |     rmse     |\n",
      "+---------+-------+--------------+\n",
      "|   850   |   12  | 4.8959475019 |\n",
      "+---------+-------+--------------+\n",
      "[1 rows x 3 columns]\n",
      "\n",
      "\n",
      "Per Item RMSE (best)\n",
      "+---------+-------+----------------+\n",
      "| item_id | count |      rmse      |\n",
      "+---------+-------+----------------+\n",
      "|   1280  |   1   | 0.984343676655 |\n",
      "+---------+-------+----------------+\n",
      "[1 rows x 3 columns]\n",
      "\n",
      "\n",
      "Per Item RMSE (worst)\n",
      "+---------+-------+------+\n",
      "| item_id | count | rmse |\n",
      "+---------+-------+------+\n",
      "|   814   |   1   | 5.0  |\n",
      "+---------+-------+------+\n",
      "[1 rows x 3 columns]\n",
      "\n"
     ]
    }
   ],
   "source": [
    "precision_recall = gl.recommender.util.compare_models(sf_test,\n",
    "                                                      models,metric='rmse',\n",
    "                                                      model_names=model_names)"
   ]
  },
  {
   "cell_type": "code",
   "execution_count": 17,
   "metadata": {
    "collapsed": false
   },
   "outputs": [],
   "source": [
    "#targets = sf_test\n",
    "#predictions = item_similarity_recommender.predict(sf_test, new_observation_data=None, new_user_data=None, new_item_data=None)\n",
    "\n",
    "#gl.evaluation.confusion_matrix(targets, predictions)"
   ]
  },
  {
   "cell_type": "markdown",
   "metadata": {
    "collapsed": true
   },
   "source": [
    "**Conclusion**\n",
    "\n",
    "In this session we have used tree recommendation models against given dataset and applied various model comparison.using Graphlab.recommender.util.compare_models() util found that the **factorization model **perfomred better commpared to other two models and produced less **RMSE **for the given dataset.\n"
   ]
  },
  {
   "cell_type": "markdown",
   "metadata": {
    "collapsed": true
   },
   "source": [
    "<img src=\"RMSE.PNG\" width=300 height =300>"
   ]
  },
  {
   "cell_type": "code",
   "execution_count": null,
   "metadata": {
    "collapsed": true
   },
   "outputs": [],
   "source": []
  }
 ],
 "metadata": {
  "kernelspec": {
   "display_name": "Python 2",
   "language": "python",
   "name": "python2"
  },
  "language_info": {
   "codemirror_mode": {
    "name": "ipython",
    "version": 2
   },
   "file_extension": ".py",
   "mimetype": "text/x-python",
   "name": "python",
   "nbconvert_exporter": "python",
   "pygments_lexer": "ipython2",
   "version": "2.7.11"
  }
 },
 "nbformat": 4,
 "nbformat_minor": 0
}
