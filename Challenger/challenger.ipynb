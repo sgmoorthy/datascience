{
 "cells": [
  {
   "cell_type": "markdown",
   "metadata": {},
   "source": [
    "# Challenger Launch "
   ]
  },
  {
   "cell_type": "markdown",
   "metadata": {},
   "source": [
    "Case Study Description (Case Study 3.1(MITxpro)): Learn to apply Logistic Regression in a practical real-world setting. \n",
    "Logistic Regression: The Challenging Disaster\n",
    "Why this Case Study? Appreciate how simple and easy this analysis really is and how it could have potentially led to a different decision on the morning of the Challenger's launch.\n",
    "Self-Help Documentation: In this document, we walk through some helpful tips to get you started with performing the analysis for the Challenger Case Study on your own. In this tutorial, we provide examples and some pseudo-code for the following programming environments: Python. "
   ]
  },
  {
   "cell_type": "code",
   "execution_count": 4,
   "metadata": {
    "collapsed": true
   },
   "outputs": [],
   "source": [
    "import pandas as pd\n",
    "import numpy as np\n",
    "data= pd.read_csv(\"challenger-data.csv\")"
   ]
  },
  {
   "cell_type": "code",
   "execution_count": 5,
   "metadata": {},
   "outputs": [
    {
     "data": {
      "image/png": "[encoded data removed]",
      "text/plain": [
       "<matplotlib.figure.Figure at 0x7f14570835f8>"
      ]
     },
     "metadata": {},
     "output_type": "display_data"
    }
   ],
   "source": [
    "#subsetting\tdata\n",
    "failures =data.loc[(data.Y==1)]\n",
    "no_failures=data.loc[(data.Y==0)]\n",
    "#frequencies\n",
    "failures_freq=failures.X.value_counts()#failures.groupby('X')\n",
    "no_failures_freq =no_failures.X.value_counts()\n",
    "#plotting\n",
    "import matplotlib as mpl\n",
    "from matplotlib import pyplot as plt\n",
    "plt.scatter(failures_freq.index,failures_freq,c='red',s=40)\n",
    "plt.scatter(no_failures_freq.index,np.zeros(len(no_failures_freq)),c='blue',s=40)\n",
    "plt.xlabel('X:Temperature')\n",
    "plt.ylabel('Number of Failures')\n",
    "plt.show()"
   ]
  },
  {
   "cell_type": "code",
   "execution_count": 15,
   "metadata": {},
   "outputs": [
    {
     "name": "stdout",
     "output_type": "stream",
     "text": [
      "Optimization terminated successfully.\n",
      "         Current function value: 0.242411\n",
      "         Iterations 7\n",
      "result                            Logit Regression Results                           \n",
      "==============================================================================\n",
      "Dep. Variable:                      Y   No. Observations:                  120\n",
      "Model:                          Logit   Df Residuals:                      118\n",
      "Method:                           MLE   Df Model:                            1\n",
      "Date:                Thu, 02 Nov 2017   Pseudo R-squ.:                  0.1549\n",
      "Time:                        15:37:56   Log-Likelihood:                -29.089\n",
      "converged:                       True   LL-Null:                       -34.420\n",
      "                                        LLR p-value:                  0.001094\n",
      "==============================================================================\n",
      "                 coef    std err          z      P>|z|      [0.025      0.975]\n",
      "------------------------------------------------------------------------------\n",
      "Intercept      7.4049      3.041      2.435      0.015       1.445      13.365\n",
      "X             -0.1466      0.047     -3.104      0.002      -0.239      -0.054\n",
      "==============================================================================\n"
     ]
    }
   ],
   "source": [
    "from patsy import dmatrices\n",
    "import statsmodels.discrete.discrete_model as sm\n",
    "#get the data in correct format\n",
    "y,X=dmatrices('Y~X',data,return_type='dataframe')\n",
    "#build\tthe\tmodel\n",
    "logit=sm.Logit(y,X)\n",
    "result=logit.fit()\n",
    "#summarize the model\n",
    "print ('result',result.summary())\n"
   ]
  },
  {
   "cell_type": "code",
   "execution_count": null,
   "metadata": {
    "collapsed": true
   },
   "outputs": [],
   "source": []
  }
 ],
 "metadata": {
  "kernelspec": {
   "display_name": "Python [conda env:Python3]",
   "language": "python",
   "name": "conda-env-Python3-py"
  },
  "language_info": {
   "codemirror_mode": {
    "name": "ipython",
    "version": 3
   },
   "file_extension": ".py",
   "mimetype": "text/x-python",
   "name": "python",
   "nbconvert_exporter": "python",
   "pygments_lexer": "ipython3",
   "version": "3.6.1"
  }
 },
 "nbformat": 4,
 "nbformat_minor": 2
}
